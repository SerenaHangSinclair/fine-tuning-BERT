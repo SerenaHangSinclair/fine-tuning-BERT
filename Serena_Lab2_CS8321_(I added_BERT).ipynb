{
 "cells": [
  {
   "cell_type": "markdown",
   "metadata": {
    "id": "RcQ8MZyXX2Mq"
   },
   "source": [
    "# Lab 2: Transfer Learning and Transformers"
   ]
  },
  {
   "cell_type": "markdown",
   "metadata": {
    "id": "7OW9s9uZYD6j"
   },
   "source": [
    "**CS8321: Machine Learning & Neural Networks**<br>\n",
    "**February 23, 2025**<br><br>\n",
    "Xiaona Hang - I completed the part of finetuning BERT<br>\n"
   ]
  },
  {
   "cell_type": "markdown",
   "metadata": {
    "id": "JG_3oPd4Z3NS"
   },
   "source": [
    "## 1. Classification Task\n",
    "\n",
    "The dataset is used for sentiment classification of tweets, where each tweet is assigned a label indicating its sentiment:\n",
    "\n",
    "*   0 → Negative Sentiment\n",
    "*   1 → Neutral Sentiment\n",
    "*   2 → Positive Sentiment\n",
    "\n",
    "This is a supervised, multi-class classification task because each tweet is categorized into one of three distinct sentiment classes."
   ]
  },
  {
   "cell_type": "markdown",
   "metadata": {
    "id": "6LqxqQBMbYL-"
   },
   "source": [
    "## 2. Business Case\n",
    "\n",
    "The ability to classify sentiment in tweets has many business applications, including:\n",
    "\n",
    "\n",
    "\n",
    "*   Brand Monitoring: Companies can analyze customer feedback on social media to understand public perception.\n",
    "*   Customer Support: Automating sentiment analysis helps prioritize negative tweets for faster responses.\n",
    "*   Market Research: Understanding user sentiment trends allows businesses to adjust marketing strategies.\n",
    "*   Political & Social Analysis: Tracking sentiment on political or social issues helps policymakers and researchers gauge public opinion.\n",
    "\n",
    "Since social media sentiment can significantly impact brand reputation and marketing success, accurate classification is crucial for decision-making."
   ]
  },
  {
   "cell_type": "markdown",
   "metadata": {
    "id": "rG1wT20Ob1nT"
   },
   "source": [
    "## 3. Multi-Task Nature\n",
    "\n",
    "*   Is this multi-task? Explain.\n",
    "\n",
    "\n",
    "\n"
   ]
  },
  {
   "cell_type": "markdown",
   "metadata": {
    "id": "ANeW1XFXcTYh"
   },
   "source": [
    "## 4. Feature Data\n",
    "\n",
    "\n",
    "*   Text Data: Each tweet is an individual sample that serves as input to the model.\n",
    "*   Label Data: Each tweet is labeled as negative (0), neutral (1), or positive (2).\n",
    "\n"
   ]
  },
  {
   "cell_type": "markdown",
   "metadata": {
    "id": "m7Zn5og4ckJo"
   },
   "source": [
    "## 5. Data Collection\n",
    "\n",
    "*   Collected by: The dataset is part of TweetEval, a standardized benchmark for Twitter-specific NLP tasks.\n",
    "*   Purpose: Created to provide a unified framework for evaluating NLP models on Twitter-based classification problems.\n",
    "*   Time of Collection: The dataset is derived from various existing Twitter datasets, compiled into the TweetEval benchmark in 2020.\n",
    "*   Data Type: Single-modal dataset (only text data, no images or other modalities).\n",
    "\n"
   ]
  },
  {
   "cell_type": "markdown",
   "metadata": {
    "id": "orH06RM4c0k-"
   },
   "source": [
    "## 6. Evaluation Criteria\n",
    "What evaluation criteria will you be using and why? Why does this support the business case?"
   ]
  },
  {
   "cell_type": "markdown",
   "metadata": {
    "id": "2VvF6aDqdiM2"
   },
   "source": [
    "## 7. Model\n",
    "[2.0 points] Describe the foundational model that you will be using to transfer learn from. What task(s) was this foundational model trained upon? Explain if the new task is within the same domain, across domains, etc.\n"
   ]
  },
  {
   "cell_type": "markdown",
   "metadata": {
    "id": "sDRtP2Nhd973"
   },
   "source": [
    "## 8. Data Split"
   ]
  },
  {
   "cell_type": "code",
   "execution_count": 1,
   "metadata": {
    "id": "Y-Gu8jpHSric"
   },
   "outputs": [],
   "source": [
    "import pandas as pd\n",
    "import numpy as np\n",
    "import re\n",
    "# from transformers import BertTokenizer, BertForSequenceClassification, Trainer, TrainingArguments"
   ]
  },
  {
   "cell_type": "code",
   "execution_count": 2,
   "metadata": {
    "id": "TuXKn-9FEWLy"
   },
   "outputs": [],
   "source": [
    "# from google.colab import drive\n",
    "# drive.mount('/content/drive')\n",
    "\n",
    "# %cd /content/sample_data"
   ]
  },
  {
   "cell_type": "code",
   "execution_count": 3,
   "metadata": {
    "id": "S3J5w-BcXNtQ"
   },
   "outputs": [],
   "source": [
    "# def preprocess_text(text):\n",
    "#     \"\"\"Basic text cleaning: lowercasing, removing special characters.\"\"\"\n",
    "#     text = text.lower()\n",
    "#     text = re.sub(r'http\\S+', '', text)  # Remove URLs\n",
    "#     text = re.sub(r'[^a-zA-Z0-9 ]', '', text)  # Remove special characters\n",
    "#     return text\n",
    "\n",
    "# data['clean_text'] = data['text'].apply(preprocess_text)"
   ]
  },
  {
   "cell_type": "markdown",
   "metadata": {
    "id": "hjy7L5AtrwW0"
   },
   "source": [
    "### Data Split\n",
    "The TweetEval dataset provides predefined splits for training, validation, and testing. This means that instead of manually splitting the dataset, we can use the official splits prepared by the dataset authors.\n",
    "\n",
    "The dataset was originally complied from multiple Twitter sentiment datasets and restructured as part of TweetEval.\n",
    "\n",
    "**Key Aspects:**\n",
    "\n",
    "*   80% Training/10% Testing/10% Validation - the model needs enough data to learn, hence the 80% for the training set. The remaining 20% is used to test and evaluate model perfomance on unseen tweets.\n",
    "*   Stratification (stratify=data['label']) - ensures each sentiment class (negative, neutral, positive) is proportionally represented in both train and test sets. This also prevents the model from overfitting to dominant classes if the dataset is imbalanced.\n",
    "*   Random Seed (random_seed=42) - ensures that the train-test split remains consistent across different runs.\n",
    "\n",
    "\n",
    "This will allown us to evaluate how well the model performs on new, unseen tweets. If the dataset contains significantly more neutral tweets than possitive or negative ones, stratification ensures that all sentiment categories are proportionally distributed in both training and testing sets. Additionally, keeping 80% for training has become standard practice in natural language processing as many pre-trained transformers, like BERT, require large amounts of data for training.\n",
    "\n",
    "### Why we kept the author's split vs a manual split:\n",
    "\n",
    "*   **Consistency:** Using the same train/val/test split ensures that model comparisons are fair and reproducible.\n",
    "*   **Class Balance:** The authors have already ensured that all sentiment classes are equally distributed in each subset.\n",
    "*   **Prevents data leakage:** It ensures that tweets appearing in training do not overlan with the test set.\n",
    "*   **Standardizes Evaluation:** Since we are using the same predefined split, model comparisons remain fair.\n",
    "\n",
    "\n",
    "\n",
    "\n",
    "\n",
    "\n",
    "\n",
    "\n",
    "\n"
   ]
  },
  {
   "cell_type": "markdown",
   "metadata": {
    "id": "z0fWiZfKe-FG"
   },
   "source": [
    "## 9. Baseline Model\n",
    "Train a baseline model from scratch to perform the classification task. That is, do NOT use transfer learning for this step--you are training a model to see the baseline performance. Verify the model converges (even if the model is overfit). Note: This does NOT need to mirror the foundational model nor does this need to be a transformer--this model may be far less computational to train."
   ]
  },
  {
   "cell_type": "markdown",
   "metadata": {
    "id": "Q9Cxegmgq5jF"
   },
   "source": [
    "### **Loading Google Drive for Accessing Dataset**"
   ]
  },
  {
   "cell_type": "code",
   "execution_count": 4,
   "metadata": {
    "id": "yNmih5mypUc2"
   },
   "outputs": [],
   "source": [
    "# from google.colab import drive\n",
    "# drive.mount('/content/drive')\n",
    "# %cd /content/drive/MyDrive/cs8321_Labs/Datasets"
   ]
  },
  {
   "cell_type": "code",
   "execution_count": null,
   "metadata": {
    "id": "j7OiVoBdq5k6"
   },
   "outputs": [],
   "source": []
  },
  {
   "cell_type": "markdown",
   "metadata": {
    "id": "Ae6eZiFCrDkC"
   },
   "source": [
    "### **Imports Needed for this Section**"
   ]
  },
  {
   "cell_type": "code",
   "execution_count": 5,
   "metadata": {
    "id": "tbc91PH_oSx8"
   },
   "outputs": [],
   "source": [
    "# Imports for Base Model/s\n",
    "import pandas as pd\n",
    "import re\n",
    "import time\n",
    "import matplotlib.pyplot as plt\n",
    "from tabulate import tabulate\n",
    "import torch\n",
    "\n",
    "from sklearn.feature_extraction.text import TfidfVectorizer\n",
    "from sklearn.model_selection import train_test_split\n",
    "from sklearn.linear_model import LogisticRegression\n",
    "from sklearn.ensemble import RandomForestClassifier\n",
    "from sklearn.tree import DecisionTreeClassifier\n",
    "from sklearn.neural_network import MLPClassifier\n",
    "from sklearn.svm import SVC\n",
    "from sklearn.metrics import accuracy_score"
   ]
  },
  {
   "cell_type": "code",
   "execution_count": 6,
   "metadata": {
    "colab": {
     "base_uri": "https://localhost:8080/"
    },
    "id": "n2jdHi0kWp12",
    "outputId": "2455d39a-20c6-494a-f53d-4f5a511b4bc5"
   },
   "outputs": [
    {
     "name": "stdout",
     "output_type": "stream",
     "text": [
      "Using device: cuda\n"
     ]
    }
   ],
   "source": [
    "# Check if GPU is available\n",
    "device = \"cuda\" if torch.cuda.is_available() else \"cpu\"\n",
    "print(f\"Using device: {device}\")"
   ]
  },
  {
   "cell_type": "markdown",
   "metadata": {
    "id": "KV5nNOyRrLdR"
   },
   "source": [
    "### **Track Time and Formatting Time Output**"
   ]
  },
  {
   "cell_type": "code",
   "execution_count": 7,
   "metadata": {
    "id": "QDS38BRyFTef"
   },
   "outputs": [],
   "source": [
    "# To Convert Time for Readibility\n",
    "def convert_time(seconds):\n",
    "    if seconds < 60:\n",
    "        return f\"{seconds:.2f}s\"\n",
    "    elif seconds < 3600:\n",
    "        minutes = int(seconds // 60)\n",
    "        sec = int(seconds % 60)\n",
    "        return f\"{minutes}min {sec}s\"\n",
    "    else:\n",
    "        hours = int(seconds // 3600)\n",
    "        minutes = int((seconds % 3600) // 60)\n",
    "        sec = int(seconds % 60)\n",
    "        return f\"{hours}h {minutes}min {sec}s\"\n",
    "\n",
    "# Track computation times\n",
    "training_times = {}\n",
    "prediction_times = {}"
   ]
  },
  {
   "cell_type": "markdown",
   "metadata": {
    "id": "geY20ik9rXI9"
   },
   "source": [
    "### **Loading Tweets Dataset**"
   ]
  },
  {
   "cell_type": "code",
   "execution_count": 8,
   "metadata": {
    "colab": {
     "base_uri": "https://localhost:8080/",
     "height": 206
    },
    "id": "9CP2ZFRkpzi0",
    "outputId": "93d73191-9b30-4240-9386-5a4ff8a33891"
   },
   "outputs": [
    {
     "data": {
      "text/html": [
       "<div>\n",
       "<style scoped>\n",
       "    .dataframe tbody tr th:only-of-type {\n",
       "        vertical-align: middle;\n",
       "    }\n",
       "\n",
       "    .dataframe tbody tr th {\n",
       "        vertical-align: top;\n",
       "    }\n",
       "\n",
       "    .dataframe thead th {\n",
       "        text-align: right;\n",
       "    }\n",
       "</style>\n",
       "<table border=\"1\" class=\"dataframe\">\n",
       "  <thead>\n",
       "    <tr style=\"text-align: right;\">\n",
       "      <th></th>\n",
       "      <th>target</th>\n",
       "      <th>id</th>\n",
       "      <th>date</th>\n",
       "      <th>flag</th>\n",
       "      <th>user</th>\n",
       "      <th>text</th>\n",
       "    </tr>\n",
       "  </thead>\n",
       "  <tbody>\n",
       "    <tr>\n",
       "      <th>0</th>\n",
       "      <td>0</td>\n",
       "      <td>1467810369</td>\n",
       "      <td>Mon Apr 06 22:19:45 PDT 2009</td>\n",
       "      <td>NO_QUERY</td>\n",
       "      <td>_TheSpecialOne_</td>\n",
       "      <td>@switchfoot http://twitpic.com/2y1zl - Awww, t...</td>\n",
       "    </tr>\n",
       "    <tr>\n",
       "      <th>1</th>\n",
       "      <td>0</td>\n",
       "      <td>1467810672</td>\n",
       "      <td>Mon Apr 06 22:19:49 PDT 2009</td>\n",
       "      <td>NO_QUERY</td>\n",
       "      <td>scotthamilton</td>\n",
       "      <td>is upset that he can't update his Facebook by ...</td>\n",
       "    </tr>\n",
       "    <tr>\n",
       "      <th>2</th>\n",
       "      <td>0</td>\n",
       "      <td>1467810917</td>\n",
       "      <td>Mon Apr 06 22:19:53 PDT 2009</td>\n",
       "      <td>NO_QUERY</td>\n",
       "      <td>mattycus</td>\n",
       "      <td>@Kenichan I dived many times for the ball. Man...</td>\n",
       "    </tr>\n",
       "    <tr>\n",
       "      <th>3</th>\n",
       "      <td>0</td>\n",
       "      <td>1467811184</td>\n",
       "      <td>Mon Apr 06 22:19:57 PDT 2009</td>\n",
       "      <td>NO_QUERY</td>\n",
       "      <td>ElleCTF</td>\n",
       "      <td>my whole body feels itchy and like its on fire</td>\n",
       "    </tr>\n",
       "    <tr>\n",
       "      <th>4</th>\n",
       "      <td>0</td>\n",
       "      <td>1467811193</td>\n",
       "      <td>Mon Apr 06 22:19:57 PDT 2009</td>\n",
       "      <td>NO_QUERY</td>\n",
       "      <td>Karoli</td>\n",
       "      <td>@nationwideclass no, it's not behaving at all....</td>\n",
       "    </tr>\n",
       "  </tbody>\n",
       "</table>\n",
       "</div>"
      ],
      "text/plain": [
       "   target          id                          date      flag  \\\n",
       "0       0  1467810369  Mon Apr 06 22:19:45 PDT 2009  NO_QUERY   \n",
       "1       0  1467810672  Mon Apr 06 22:19:49 PDT 2009  NO_QUERY   \n",
       "2       0  1467810917  Mon Apr 06 22:19:53 PDT 2009  NO_QUERY   \n",
       "3       0  1467811184  Mon Apr 06 22:19:57 PDT 2009  NO_QUERY   \n",
       "4       0  1467811193  Mon Apr 06 22:19:57 PDT 2009  NO_QUERY   \n",
       "\n",
       "              user                                               text  \n",
       "0  _TheSpecialOne_  @switchfoot http://twitpic.com/2y1zl - Awww, t...  \n",
       "1    scotthamilton  is upset that he can't update his Facebook by ...  \n",
       "2         mattycus  @Kenichan I dived many times for the ball. Man...  \n",
       "3          ElleCTF    my whole body feels itchy and like its on fire   \n",
       "4           Karoli  @nationwideclass no, it's not behaving at all....  "
      ]
     },
     "metadata": {},
     "output_type": "display_data"
    }
   ],
   "source": [
    "# Load the dataset\n",
    "file_path = \"tweetsDataset.csv\"\n",
    "df = pd.read_csv(file_path, encoding=\"ISO-8859-1\", header=None, names=[\"target\", \"id\", \"date\", \"flag\", \"user\", \"text\"])\n",
    "\n",
    "display(df.head())"
   ]
  },
  {
   "cell_type": "markdown",
   "metadata": {
    "id": "ttmC0QPPrsl9"
   },
   "source": [
    "### **Pre-Processing Dataset before Base Model**"
   ]
  },
  {
   "cell_type": "code",
   "execution_count": 9,
   "metadata": {
    "colab": {
     "base_uri": "https://localhost:8080/",
     "height": 206
    },
    "id": "YG_O0irvqask",
    "outputId": "bbe7fc50-8223-4386-9438-143c42822992"
   },
   "outputs": [
    {
     "data": {
      "text/html": [
       "<div>\n",
       "<style scoped>\n",
       "    .dataframe tbody tr th:only-of-type {\n",
       "        vertical-align: middle;\n",
       "    }\n",
       "\n",
       "    .dataframe tbody tr th {\n",
       "        vertical-align: top;\n",
       "    }\n",
       "\n",
       "    .dataframe thead th {\n",
       "        text-align: right;\n",
       "    }\n",
       "</style>\n",
       "<table border=\"1\" class=\"dataframe\">\n",
       "  <thead>\n",
       "    <tr style=\"text-align: right;\">\n",
       "      <th></th>\n",
       "      <th>target</th>\n",
       "      <th>id</th>\n",
       "      <th>date</th>\n",
       "      <th>flag</th>\n",
       "      <th>user</th>\n",
       "      <th>text</th>\n",
       "      <th>clean_text</th>\n",
       "    </tr>\n",
       "  </thead>\n",
       "  <tbody>\n",
       "    <tr>\n",
       "      <th>0</th>\n",
       "      <td>0</td>\n",
       "      <td>1467810369</td>\n",
       "      <td>Mon Apr 06 22:19:45 PDT 2009</td>\n",
       "      <td>NO_QUERY</td>\n",
       "      <td>_TheSpecialOne_</td>\n",
       "      <td>@switchfoot http://twitpic.com/2y1zl - Awww, t...</td>\n",
       "      <td>awww thats a bummer  you shoulda got david ...</td>\n",
       "    </tr>\n",
       "    <tr>\n",
       "      <th>1</th>\n",
       "      <td>0</td>\n",
       "      <td>1467810672</td>\n",
       "      <td>Mon Apr 06 22:19:49 PDT 2009</td>\n",
       "      <td>NO_QUERY</td>\n",
       "      <td>scotthamilton</td>\n",
       "      <td>is upset that he can't update his Facebook by ...</td>\n",
       "      <td>is upset that he cant update his facebook by t...</td>\n",
       "    </tr>\n",
       "    <tr>\n",
       "      <th>2</th>\n",
       "      <td>0</td>\n",
       "      <td>1467810917</td>\n",
       "      <td>Mon Apr 06 22:19:53 PDT 2009</td>\n",
       "      <td>NO_QUERY</td>\n",
       "      <td>mattycus</td>\n",
       "      <td>@Kenichan I dived many times for the ball. Man...</td>\n",
       "      <td>i dived many times for the ball managed to sa...</td>\n",
       "    </tr>\n",
       "    <tr>\n",
       "      <th>3</th>\n",
       "      <td>0</td>\n",
       "      <td>1467811184</td>\n",
       "      <td>Mon Apr 06 22:19:57 PDT 2009</td>\n",
       "      <td>NO_QUERY</td>\n",
       "      <td>ElleCTF</td>\n",
       "      <td>my whole body feels itchy and like its on fire</td>\n",
       "      <td>my whole body feels itchy and like its on fire</td>\n",
       "    </tr>\n",
       "    <tr>\n",
       "      <th>4</th>\n",
       "      <td>0</td>\n",
       "      <td>1467811193</td>\n",
       "      <td>Mon Apr 06 22:19:57 PDT 2009</td>\n",
       "      <td>NO_QUERY</td>\n",
       "      <td>Karoli</td>\n",
       "      <td>@nationwideclass no, it's not behaving at all....</td>\n",
       "      <td>no its not behaving at all im mad why am i he...</td>\n",
       "    </tr>\n",
       "  </tbody>\n",
       "</table>\n",
       "</div>"
      ],
      "text/plain": [
       "   target          id                          date      flag  \\\n",
       "0       0  1467810369  Mon Apr 06 22:19:45 PDT 2009  NO_QUERY   \n",
       "1       0  1467810672  Mon Apr 06 22:19:49 PDT 2009  NO_QUERY   \n",
       "2       0  1467810917  Mon Apr 06 22:19:53 PDT 2009  NO_QUERY   \n",
       "3       0  1467811184  Mon Apr 06 22:19:57 PDT 2009  NO_QUERY   \n",
       "4       0  1467811193  Mon Apr 06 22:19:57 PDT 2009  NO_QUERY   \n",
       "\n",
       "              user                                               text  \\\n",
       "0  _TheSpecialOne_  @switchfoot http://twitpic.com/2y1zl - Awww, t...   \n",
       "1    scotthamilton  is upset that he can't update his Facebook by ...   \n",
       "2         mattycus  @Kenichan I dived many times for the ball. Man...   \n",
       "3          ElleCTF    my whole body feels itchy and like its on fire    \n",
       "4           Karoli  @nationwideclass no, it's not behaving at all....   \n",
       "\n",
       "                                          clean_text  \n",
       "0     awww thats a bummer  you shoulda got david ...  \n",
       "1  is upset that he cant update his facebook by t...  \n",
       "2   i dived many times for the ball managed to sa...  \n",
       "3    my whole body feels itchy and like its on fire   \n",
       "4   no its not behaving at all im mad why am i he...  "
      ]
     },
     "metadata": {},
     "output_type": "display_data"
    }
   ],
   "source": [
    "# Preprocess text function\n",
    "def preprocess_text(text):\n",
    "    text = re.sub(r'http\\S+', '', text)  # Remove URLs\n",
    "    text = re.sub(r'@\\w+|#\\w+', '', text)  # Remove mentions and hashtags\n",
    "    text = re.sub(r'[^A-Za-z\\s]', '', text)  # Remove special characters and numbers\n",
    "    return text.lower()\n",
    "\n",
    "df[\"clean_text\"] = df[\"text\"].apply(preprocess_text)\n",
    "display(df.head())"
   ]
  },
  {
   "cell_type": "markdown",
   "metadata": {
    "id": "ToS0yZJ5rzGX"
   },
   "source": [
    "### **Re-Mapping Target Labels**"
   ]
  },
  {
   "cell_type": "code",
   "execution_count": 10,
   "metadata": {
    "id": "2twLZIhOqmez"
   },
   "outputs": [],
   "source": [
    "# Convert labels to multi-class (0 = Negative, 1 = Neutral, 2 = Positive)\n",
    "df[\"target\"] = df[\"target\"].map({0: 0, 2: 1, 4: 2})"
   ]
  },
  {
   "cell_type": "markdown",
   "metadata": {
    "id": "enmtX1HVr7Ow"
   },
   "source": [
    "### **Vectorizing Inputs and Splitting Dataset (70% Train, 15% Test, and 15% Validation Set)**"
   ]
  },
  {
   "cell_type": "code",
   "execution_count": 11,
   "metadata": {
    "id": "31w0HsWKrsoc"
   },
   "outputs": [],
   "source": [
    "# Convert text into numerical features using TF-IDF\n",
    "vectorizer = TfidfVectorizer(max_features=3000)\n",
    "X = vectorizer.fit_transform(df[\"clean_text\"])\n",
    "y = df[\"target\"]"
   ]
  },
  {
   "cell_type": "code",
   "execution_count": 12,
   "metadata": {
    "id": "UQFPWifmr4VQ"
   },
   "outputs": [],
   "source": [
    "# Split into train (70%), validation (15%), and test (15%) sets\n",
    "X_train, X_temp, y_train, y_temp = train_test_split(X, y, test_size=0.3, stratify=y, random_state=42)\n",
    "X_val, X_test, y_val, y_test = train_test_split(X_temp, y_temp, test_size=0.5, stratify=y_temp, random_state=42)"
   ]
  },
  {
   "cell_type": "markdown",
   "metadata": {
    "id": "QhtafIo6sHD7"
   },
   "source": [
    "### **Base Model 1: Logistic Regression**"
   ]
  },
  {
   "cell_type": "code",
   "execution_count": 13,
   "metadata": {
    "colab": {
     "base_uri": "https://localhost:8080/"
    },
    "id": "8mCBs4mi8Q_k",
    "outputId": "09d6f8a8-0204-40db-a6ea-edb3514e99a8"
   },
   "outputs": [
    {
     "name": "stdout",
     "output_type": "stream",
     "text": [
      "Logistic Regression:\n",
      "Validation Accuracy: 78.55%\n",
      "Test Accuracy: 78.42%\n",
      "Training Time: 1.07s\n",
      "Prediction Time: 0.01s\n"
     ]
    }
   ],
   "source": [
    "# Logistic Regression\n",
    "start_train = time.time()\n",
    "logistic_model = LogisticRegression(max_iter=100, solver='lbfgs')\n",
    "logistic_model.fit(X_train, y_train)\n",
    "end_train = time.time()\n",
    "training_times[\"Logistic Regression\"] = end_train - start_train\n",
    "\n",
    "start_pred = time.time()\n",
    "logistic_val_preds = logistic_model.predict(X_val)\n",
    "logistic_test_preds = logistic_model.predict(X_test)\n",
    "end_pred = time.time()\n",
    "prediction_times[\"Logistic Regression\"] = end_pred - start_pred\n",
    "\n",
    "logistic_val_acc = accuracy_score(y_val, logistic_val_preds)\n",
    "logistic_test_acc = accuracy_score(y_test, logistic_test_preds)\n",
    "\n",
    "print(f\"Logistic Regression:\\nValidation Accuracy: {logistic_val_acc*100:.2f}%\\n\"\n",
    "      f\"Test Accuracy: {logistic_test_acc*100:.2f}%\\n\"\n",
    "      f\"Training Time: {convert_time(training_times['Logistic Regression'])}\\n\"\n",
    "      f\"Prediction Time: {convert_time(prediction_times['Logistic Regression'])}\")"
   ]
  },
  {
   "cell_type": "markdown",
   "metadata": {
    "id": "wrouyyFnsU80"
   },
   "source": [
    "### **Base Model 2: Decision Tree**"
   ]
  },
  {
   "cell_type": "code",
   "execution_count": 14,
   "metadata": {
    "colab": {
     "base_uri": "https://localhost:8080/"
    },
    "id": "b26gu1PE8fSU",
    "outputId": "c22deff2-e5b0-4f99-92e1-04fba051d46e"
   },
   "outputs": [
    {
     "name": "stdout",
     "output_type": "stream",
     "text": [
      "Decision Tree:\n",
      "Validation Accuracy: 61.15%\n",
      "Test Accuracy: 60.96%\n",
      "Training Time: 25.10s\n",
      "Prediction Time: 0.08s\n"
     ]
    }
   ],
   "source": [
    "# Decision Tree\n",
    "start_train = time.time()\n",
    "dt_model = DecisionTreeClassifier(max_depth=10)\n",
    "dt_model.fit(X_train, y_train)\n",
    "end_train = time.time()\n",
    "training_times[\"Decision Tree\"] = end_train - start_train\n",
    "\n",
    "start_pred = time.time()\n",
    "dt_val_preds = dt_model.predict(X_val)\n",
    "dt_test_preds = dt_model.predict(X_test)\n",
    "end_pred = time.time()\n",
    "prediction_times[\"Decision Tree\"] = end_pred - start_pred\n",
    "\n",
    "dt_val_acc = accuracy_score(y_val, dt_val_preds)\n",
    "dt_test_acc = accuracy_score(y_test, dt_test_preds)\n",
    "\n",
    "print(f\"Decision Tree:\\nValidation Accuracy: {dt_val_acc*100:.2f}%\\n\"\n",
    "      f\"Test Accuracy: {dt_test_acc*100:.2f}%\\n\"\n",
    "      f\"Training Time: {convert_time(training_times['Decision Tree'])}\\n\"\n",
    "      f\"Prediction Time: {convert_time(prediction_times['Decision Tree'])}\")"
   ]
  },
  {
   "cell_type": "markdown",
   "metadata": {
    "id": "V1a71Qg1sXkh"
   },
   "source": [
    "### **Base Model 3: Random Forest**"
   ]
  },
  {
   "cell_type": "code",
   "execution_count": 15,
   "metadata": {
    "colab": {
     "base_uri": "https://localhost:8080/"
    },
    "id": "DL6PPYKl8dA0",
    "outputId": "0f7d6b88-5abd-4666-fc47-b6d184a7f609"
   },
   "outputs": [
    {
     "name": "stdout",
     "output_type": "stream",
     "text": [
      "Random Forest:\n",
      "Validation Accuracy: 71.29%\n",
      "Test Accuracy: 71.19%\n",
      "Training Time: 26.41s\n",
      "Prediction Time: 0.84s\n"
     ]
    }
   ],
   "source": [
    "# Random Forest\n",
    "start_train = time.time()\n",
    "rf_model = RandomForestClassifier(n_estimators=50, max_depth=10)\n",
    "rf_model.fit(X_train, y_train)\n",
    "end_train = time.time()\n",
    "training_times[\"Random Forest\"] = end_train - start_train\n",
    "\n",
    "start_pred = time.time()\n",
    "rf_val_preds = rf_model.predict(X_val)\n",
    "rf_test_preds = rf_model.predict(X_test)\n",
    "end_pred = time.time()\n",
    "prediction_times[\"Random Forest\"] = end_pred - start_pred\n",
    "\n",
    "rf_val_acc = accuracy_score(y_val, rf_val_preds)\n",
    "rf_test_acc = accuracy_score(y_test, rf_test_preds)\n",
    "\n",
    "print(f\"Random Forest:\\nValidation Accuracy: {rf_val_acc*100:.2f}%\\n\"\n",
    "      f\"Test Accuracy: {rf_test_acc*100:.2f}%\\n\"\n",
    "      f\"Training Time: {convert_time(training_times['Random Forest'])}\\n\"\n",
    "      f\"Prediction Time: {convert_time(prediction_times['Random Forest'])}\")"
   ]
  },
  {
   "cell_type": "markdown",
   "metadata": {
    "id": "kq0FChfksaa8"
   },
   "source": [
    "### **Base Model 4: Neural Network (MLP)**"
   ]
  },
  {
   "cell_type": "code",
   "execution_count": 16,
   "metadata": {
    "colab": {
     "base_uri": "https://localhost:8080/"
    },
    "id": "lH8IYhwH8hjs",
    "outputId": "b57084d2-c867-4d76-bde8-035c6f00bb5e"
   },
   "outputs": [
    {
     "name": "stdout",
     "output_type": "stream",
     "text": [
      "Neural Network (MLP):\n",
      "Validation Accuracy: 79.46%\n",
      "Test Accuracy: 79.41%\n",
      "Training Time: 3min 43s\n",
      "Prediction Time: 0.05s\n"
     ]
    }
   ],
   "source": [
    "# Neural Network (MLP)\n",
    "start_train = time.time()\n",
    "mlp_model = MLPClassifier(hidden_layer_sizes=(10,), max_iter=80, warm_start=True)\n",
    "mlp_model.fit(X_train, y_train)\n",
    "end_train = time.time()\n",
    "training_times[\"Neural Network (MLP)\"] = end_train - start_train\n",
    "\n",
    "start_pred = time.time()\n",
    "mlp_val_preds = mlp_model.predict(X_val)\n",
    "mlp_test_preds = mlp_model.predict(X_test)\n",
    "end_pred = time.time()\n",
    "prediction_times[\"Neural Network (MLP)\"] = end_pred - start_pred\n",
    "\n",
    "mlp_val_acc = accuracy_score(y_val, mlp_val_preds)\n",
    "mlp_test_acc = accuracy_score(y_test, mlp_test_preds)\n",
    "\n",
    "print(f\"Neural Network (MLP):\\nValidation Accuracy: {mlp_val_acc*100:.2f}%\\n\"\n",
    "      f\"Test Accuracy: {mlp_test_acc*100:.2f}%\\n\"\n",
    "      f\"Training Time: {convert_time(training_times['Neural Network (MLP)'])}\\n\"\n",
    "      f\"Prediction Time: {convert_time(prediction_times['Neural Network (MLP)'])}\")"
   ]
  },
  {
   "cell_type": "markdown",
   "metadata": {
    "id": "vmx0TOFhsej-"
   },
   "source": [
    "### **Visualizing Models Performance**"
   ]
  },
  {
   "cell_type": "code",
   "execution_count": 17,
   "metadata": {
    "id": "Z6cI0APxLO5F"
   },
   "outputs": [],
   "source": [
    "import numpy as np\n",
    "import matplotlib.pyplot as plt\n",
    "\n",
    "def plot_results():\n",
    "    models = list(training_times.keys())\n",
    "    val_accuracies = [logistic_val_acc, rf_val_acc, dt_val_acc, mlp_val_acc]\n",
    "    test_accuracies = [logistic_test_acc, rf_test_acc, dt_test_acc, mlp_test_acc]\n",
    "    train_times = [training_times[m] for m in models]\n",
    "    pred_times = [prediction_times[m] for m in models]\n",
    "\n",
    "    bar_width = 0.35  # Adjust width for side-by-side bars\n",
    "    x = np.arange(len(models))  # Create index positions for models\n",
    "\n",
    "    plt.figure(figsize=(18,5))\n",
    "\n",
    "    # Accuracy Plot\n",
    "    plt.subplot(1,3,1)\n",
    "    plt.bar(x - bar_width/2, val_accuracies, width=bar_width, color='blue', label=\"Validation Accuracy\")\n",
    "    plt.bar(x + bar_width/2, test_accuracies, width=bar_width, color='orange', label=\"Test Accuracy\")\n",
    "    plt.xlabel(\"Models\")\n",
    "    plt.ylabel(\"Accuracy\")\n",
    "    plt.title(\"Validation vs Test Accuracy\")\n",
    "    plt.xticks(x, models, rotation=45)\n",
    "    plt.legend()\n",
    "\n",
    "    # Computational Time Plot\n",
    "    plt.subplot(1,3,2)\n",
    "    plt.bar(x - bar_width/2, train_times, width=bar_width, color='red', label=\"Training Time (s)\")\n",
    "    plt.bar(x + bar_width/2, pred_times, width=bar_width, color='green', label=\"Prediction Time (s)\")\n",
    "    plt.xlabel(\"Models\")\n",
    "    plt.ylabel(\"Time (seconds)\")\n",
    "    plt.title(\"Training & Prediction Time per Model\")\n",
    "    plt.xticks(x, models, rotation=45)\n",
    "    plt.legend()\n",
    "\n",
    "    # Loss Curve for Neural Network (MLP)\n",
    "    plt.subplot(1,3,3)\n",
    "    if hasattr(mlp_model, \"loss_curve_\"):\n",
    "        plt.plot(mlp_model.loss_curve_, label=\"Training Loss\", color='purple')\n",
    "        plt.xlabel(\"Epochs\")\n",
    "        plt.ylabel(\"Loss\")\n",
    "        plt.title(\"Neural Network Loss Curve\")\n",
    "        plt.legend()\n",
    "    else:\n",
    "        plt.text(0.5, 0.5, \"No Loss Curve Available\", fontsize=12, ha='center')\n",
    "\n",
    "    plt.tight_layout()\n",
    "    plt.show()"
   ]
  },
  {
   "cell_type": "code",
   "execution_count": 18,
   "metadata": {
    "colab": {
     "base_uri": "https://localhost:8080/",
     "height": 507
    },
    "id": "CoanF1XBLVZJ",
    "outputId": "5cb7a9d6-eb4d-4f64-ca2b-bfd759f6c405"
   },
   "outputs": [
    {
     "data": {
      "image/png": "[encoded data removed]",
      "text/plain": [
       "<Figure size 1800x500 with 3 Axes>"
      ]
     },
     "metadata": {},
     "output_type": "display_data"
    }
   ],
   "source": [
    "plot_results()"
   ]
  },
  {
   "cell_type": "markdown",
   "metadata": {
    "id": "xCTZW5EJsl7K"
   },
   "source": [
    "### **Summary of Base Models and Best Performance**"
   ]
  },
  {
   "cell_type": "code",
   "execution_count": 19,
   "metadata": {
    "id": "_maVfRRpRYc4"
   },
   "outputs": [],
   "source": [
    "def summarize_results():\n",
    "    results_df = pd.DataFrame({\n",
    "        \"Model\": list(training_times.keys()),\n",
    "        \"Validation Accuracy (%)\": [logistic_val_acc*100, rf_val_acc*100, dt_val_acc*100, mlp_val_acc*100],\n",
    "        \"Test Accuracy (%)\": [logistic_test_acc*100, rf_test_acc*100, dt_test_acc*100, mlp_test_acc*100],\n",
    "        \"Training Time\": [convert_time(training_times[m]) for m in training_times],\n",
    "        \"Prediction Time\": [convert_time(prediction_times[m]) for m in prediction_times]\n",
    "    })\n",
    "\n",
    "    # Highlight the best performing model based on test accuracy\n",
    "    best_model_idx = results_df[\"Test Accuracy (%)\"].idxmax()\n",
    "    results_df.loc[best_model_idx, \"Best Model\"] = \"✅ Best Performance\"\n",
    "\n",
    "    # Print the table in a well-formatted way using tabulate\n",
    "    print(\"\\ Model Performance Summary:\")\n",
    "    print(tabulate(results_df, headers=\"keys\", tablefmt=\"pretty\", showindex=False))"
   ]
  },
  {
   "cell_type": "code",
   "execution_count": 20,
   "metadata": {
    "colab": {
     "base_uri": "https://localhost:8080/"
    },
    "id": "37KKbptJRsSs",
    "outputId": "47a2e71d-0562-4cfd-db6b-f1ca1a906175"
   },
   "outputs": [
    {
     "name": "stdout",
     "output_type": "stream",
     "text": [
      "\\ Model Performance Summary:\n",
      "+----------------------+-------------------------+-------------------+---------------+-----------------+---------------------+\n",
      "|        Model         | Validation Accuracy (%) | Test Accuracy (%) | Training Time | Prediction Time |     Best Model      |\n",
      "+----------------------+-------------------------+-------------------+---------------+-----------------+---------------------+\n",
      "| Logistic Regression  |         78.5475         |      78.425       |     1.07s     |      0.01s      |         nan         |\n",
      "|    Decision Tree     |    71.29291666666666    | 71.19208333333333 |    25.10s     |      0.08s      |         nan         |\n",
      "|    Random Forest     |    61.14791666666667    |     60.95625      |    26.41s     |      0.84s      |         nan         |\n",
      "| Neural Network (MLP) |    79.45958333333333    | 79.41166666666668 |   3min 43s    |      0.05s      | ✅ Best Performance |\n",
      "+----------------------+-------------------------+-------------------+---------------+-----------------+---------------------+\n"
     ]
    }
   ],
   "source": [
    "summarize_results()"
   ]
  },
  {
   "cell_type": "markdown",
   "metadata": {
    "id": "BAhCHYCofRne"
   },
   "source": [
    "## 11. Fine tuning Model\n",
    "[2.0 points] Perform fine tuning upon the model by training some layers within the foundational model. Verify that the model converges."
   ]
  },
  {
   "cell_type": "code",
   "execution_count": 21,
   "metadata": {
    "id": "UlB_mAmKq5lD"
   },
   "outputs": [],
   "source": [
    "import pandas as pd\n",
    "import re\n",
    "import time\n",
    "import matplotlib.pyplot as plt\n",
    "from tabulate import tabulate\n",
    "import torch\n",
    "\n",
    "from sklearn.feature_extraction.text import TfidfVectorizer\n",
    "from sklearn.model_selection import train_test_split\n",
    "from sklearn.linear_model import LogisticRegression\n",
    "from sklearn.ensemble import RandomForestClassifier\n",
    "from sklearn.tree import DecisionTreeClassifier\n",
    "from sklearn.neural_network import MLPClassifier\n",
    "from sklearn.svm import SVC\n",
    "from sklearn.metrics import accuracy_score"
   ]
  },
  {
   "cell_type": "code",
   "execution_count": 22,
   "metadata": {
    "colab": {
     "base_uri": "https://localhost:8080/",
     "height": 206
    },
    "id": "YtermpdN6u3P",
    "outputId": "817a1ea6-b123-4ea7-b89a-51407604c552"
   },
   "outputs": [
    {
     "data": {
      "text/html": [
       "<div>\n",
       "<style scoped>\n",
       "    .dataframe tbody tr th:only-of-type {\n",
       "        vertical-align: middle;\n",
       "    }\n",
       "\n",
       "    .dataframe tbody tr th {\n",
       "        vertical-align: top;\n",
       "    }\n",
       "\n",
       "    .dataframe thead th {\n",
       "        text-align: right;\n",
       "    }\n",
       "</style>\n",
       "<table border=\"1\" class=\"dataframe\">\n",
       "  <thead>\n",
       "    <tr style=\"text-align: right;\">\n",
       "      <th></th>\n",
       "      <th>target</th>\n",
       "      <th>id</th>\n",
       "      <th>date</th>\n",
       "      <th>flag</th>\n",
       "      <th>user</th>\n",
       "      <th>text</th>\n",
       "      <th>clean_text</th>\n",
       "    </tr>\n",
       "  </thead>\n",
       "  <tbody>\n",
       "    <tr>\n",
       "      <th>0</th>\n",
       "      <td>0</td>\n",
       "      <td>1467810369</td>\n",
       "      <td>Mon Apr 06 22:19:45 PDT 2009</td>\n",
       "      <td>NO_QUERY</td>\n",
       "      <td>_TheSpecialOne_</td>\n",
       "      <td>@switchfoot http://twitpic.com/2y1zl - Awww, t...</td>\n",
       "      <td>awww thats a bummer  you shoulda got david ...</td>\n",
       "    </tr>\n",
       "    <tr>\n",
       "      <th>1</th>\n",
       "      <td>0</td>\n",
       "      <td>1467810672</td>\n",
       "      <td>Mon Apr 06 22:19:49 PDT 2009</td>\n",
       "      <td>NO_QUERY</td>\n",
       "      <td>scotthamilton</td>\n",
       "      <td>is upset that he can't update his Facebook by ...</td>\n",
       "      <td>is upset that he cant update his facebook by t...</td>\n",
       "    </tr>\n",
       "    <tr>\n",
       "      <th>2</th>\n",
       "      <td>0</td>\n",
       "      <td>1467810917</td>\n",
       "      <td>Mon Apr 06 22:19:53 PDT 2009</td>\n",
       "      <td>NO_QUERY</td>\n",
       "      <td>mattycus</td>\n",
       "      <td>@Kenichan I dived many times for the ball. Man...</td>\n",
       "      <td>i dived many times for the ball managed to sa...</td>\n",
       "    </tr>\n",
       "    <tr>\n",
       "      <th>3</th>\n",
       "      <td>0</td>\n",
       "      <td>1467811184</td>\n",
       "      <td>Mon Apr 06 22:19:57 PDT 2009</td>\n",
       "      <td>NO_QUERY</td>\n",
       "      <td>ElleCTF</td>\n",
       "      <td>my whole body feels itchy and like its on fire</td>\n",
       "      <td>my whole body feels itchy and like its on fire</td>\n",
       "    </tr>\n",
       "    <tr>\n",
       "      <th>4</th>\n",
       "      <td>0</td>\n",
       "      <td>1467811193</td>\n",
       "      <td>Mon Apr 06 22:19:57 PDT 2009</td>\n",
       "      <td>NO_QUERY</td>\n",
       "      <td>Karoli</td>\n",
       "      <td>@nationwideclass no, it's not behaving at all....</td>\n",
       "      <td>no its not behaving at all im mad why am i he...</td>\n",
       "    </tr>\n",
       "  </tbody>\n",
       "</table>\n",
       "</div>"
      ],
      "text/plain": [
       "   target          id                          date      flag  \\\n",
       "0       0  1467810369  Mon Apr 06 22:19:45 PDT 2009  NO_QUERY   \n",
       "1       0  1467810672  Mon Apr 06 22:19:49 PDT 2009  NO_QUERY   \n",
       "2       0  1467810917  Mon Apr 06 22:19:53 PDT 2009  NO_QUERY   \n",
       "3       0  1467811184  Mon Apr 06 22:19:57 PDT 2009  NO_QUERY   \n",
       "4       0  1467811193  Mon Apr 06 22:19:57 PDT 2009  NO_QUERY   \n",
       "\n",
       "              user                                               text  \\\n",
       "0  _TheSpecialOne_  @switchfoot http://twitpic.com/2y1zl - Awww, t...   \n",
       "1    scotthamilton  is upset that he can't update his Facebook by ...   \n",
       "2         mattycus  @Kenichan I dived many times for the ball. Man...   \n",
       "3          ElleCTF    my whole body feels itchy and like its on fire    \n",
       "4           Karoli  @nationwideclass no, it's not behaving at all....   \n",
       "\n",
       "                                          clean_text  \n",
       "0     awww thats a bummer  you shoulda got david ...  \n",
       "1  is upset that he cant update his facebook by t...  \n",
       "2   i dived many times for the ball managed to sa...  \n",
       "3    my whole body feels itchy and like its on fire   \n",
       "4   no its not behaving at all im mad why am i he...  "
      ]
     },
     "execution_count": 22,
     "metadata": {},
     "output_type": "execute_result"
    }
   ],
   "source": [
    "\n",
    "file_path = \"tweetsDataset.csv\"\n",
    "df = pd.read_csv(file_path, encoding=\"ISO-8859-1\", header=None, names=[\"target\", \"id\", \"date\", \"flag\", \"user\", \"text\"])\n",
    "def preprocess_text(text):\n",
    "    text = re.sub(r'http\\S+', '', text)  # Remove URLs\n",
    "    text = re.sub(r'@\\w+|#\\w+', '', text)  # Remove mentions and hashtags\n",
    "    text = re.sub(r'[^A-Za-z\\s]', '', text)  # Remove special characters and numbers\n",
    "    return text.lower()\n",
    "df[\"clean_text\"] = df[\"text\"].apply(preprocess_text)\n",
    "df.head()"
   ]
  },
  {
   "cell_type": "code",
   "execution_count": 23,
   "metadata": {
    "colab": {
     "base_uri": "https://localhost:8080/"
    },
    "id": "D1FKn40t0VY0",
    "outputId": "8e761957-6243-4ff7-e09f-675e23d1083a"
   },
   "outputs": [
    {
     "data": {
      "text/plain": [
       "array([0, 4], dtype=int64)"
      ]
     },
     "execution_count": 23,
     "metadata": {},
     "output_type": "execute_result"
    }
   ],
   "source": [
    "df[\"target\"].unique()"
   ]
  },
  {
   "cell_type": "code",
   "execution_count": 24,
   "metadata": {
    "colab": {
     "base_uri": "https://localhost:8080/",
     "height": 462
    },
    "id": "XcwXSw3Q7Cts",
    "outputId": "f1a27f94-dd77-453e-80a9-c5dea9239d29"
   },
   "outputs": [
    {
     "data": {
      "text/plain": [
       "<Axes: >"
      ]
     },
     "execution_count": 24,
     "metadata": {},
     "output_type": "execute_result"
    },
    {
     "data": {
      "image/png": "[encoded data removed]",
      "text/plain": [
       "<Figure size 1000x500 with 1 Axes>"
      ]
     },
     "metadata": {},
     "output_type": "display_data"
    }
   ],
   "source": [
    "# distribution of target class\n",
    "fig = plt.figure(figsize = (10,5))\n",
    "ax = fig.gca()\n",
    "df['target'].hist(ax=ax)\n"
   ]
  },
  {
   "cell_type": "code",
   "execution_count": 25,
   "metadata": {
    "id": "FUH7BBP26__U"
   },
   "outputs": [],
   "source": [
    "# Convert labels to multi-class (0 = Negative, 1 = Neutral, 2 = Positive)\n",
    "df[\"target\"] = df[\"target\"].map({0: 0, 2: 1, 4: 2})"
   ]
  },
  {
   "cell_type": "code",
   "execution_count": 26,
   "metadata": {
    "colab": {
     "base_uri": "https://localhost:8080/",
     "height": 462
    },
    "id": "ZvqcnHBi65hJ",
    "outputId": "5bc00330-433f-4e79-eb37-cb3888691170"
   },
   "outputs": [
    {
     "data": {
      "text/plain": [
       "<Axes: >"
      ]
     },
     "execution_count": 26,
     "metadata": {},
     "output_type": "execute_result"
    },
    {
     "data": {
      "image/png": "[encoded data removed]",
      "text/plain": [
       "<Figure size 1000x500 with 1 Axes>"
      ]
     },
     "metadata": {},
     "output_type": "display_data"
    }
   ],
   "source": [
    "# distribution of target classa after reassignment\n",
    "fig = plt.figure(figsize = (10,5))\n",
    "ax = fig.gca() # get current axis\n",
    "df['target'].hist(ax=ax)"
   ]
  },
  {
   "cell_type": "code",
   "execution_count": 27,
   "metadata": {
    "colab": {
     "base_uri": "https://localhost:8080/",
     "height": 616
    },
    "id": "2OEUSDTp94U-",
    "outputId": "e01d729b-4b27-4633-ef62-dc821de79307"
   },
   "outputs": [
    {
     "data": {
      "image/png": "[encoded data removed]",
      "text/plain": [
       "<Figure size 1000x600 with 1 Axes>"
      ]
     },
     "metadata": {},
     "output_type": "display_data"
    },
    {
     "name": "stdout",
     "output_type": "stream",
     "text": [
      "Max length: 40\n",
      "Min length: 0\n",
      "Mean length: 12.354689375\n"
     ]
    }
   ],
   "source": [
    "import seaborn as sns\n",
    "\n",
    "clean_text_lengths = [len(clean_text.split()) for clean_text in df['clean_text']]\n",
    "\n",
    "plt.figure(figsize=(10, 6))\n",
    "sns.kdeplot(clean_text_lengths, fill=True, color='skyblue')\n",
    "plt.xlabel('Length of Clean_Text')\n",
    "plt.ylabel('Density')\n",
    "plt.title('Density Plot of Length of Clean_Texts')\n",
    "plt.grid(True)\n",
    "plt.show()\n",
    "\n",
    "print(f'Max length: {max(clean_text_lengths)}')\n",
    "print(f'Min length: {min(clean_text_lengths)}')\n",
    "print(f'Mean length: {sum(clean_text_lengths) / len(clean_text_lengths)}')"
   ]
  },
  {
   "cell_type": "markdown",
   "metadata": {
    "id": "1IZcCOX2zQZx"
   },
   "source": [
    "Since the Mean of the Sequence Length is only about 12 tokens and the Max Length of 40 is not so big, we will use set max_seq_length = 40 to avoid most long sequences are not truncated unnecessarily"
   ]
  },
  {
   "cell_type": "markdown",
   "metadata": {
    "id": "qCbqECyv_5NV"
   },
   "source": [
    "### **Loading and Tuning BERT**"
   ]
  },
  {
   "cell_type": "markdown",
   "metadata": {
    "id": "ZJIWHJmfGcgv"
   },
   "source": [
    "**Step 1:** Freeze entire base model\n",
    "- **Add a new layer** - When loading BERT Model, add on a new, untrained, and fully connected layer with 3 outputs, as it determines the mumber of output classes for classification:\n",
    "\n",
    "  - 0 → Negative Sentiment\n",
    "  - 1 → Neutral Sentiment\n",
    "  - 2 → Positive Sentiment\n",
    "\n",
    "  In the below loading, we explicitly don't load the hidden layers as outputs. Only the output layer of the model setting with 3 classes are exposed.\n"
   ]
  },
  {
   "cell_type": "code",
   "execution_count": 28,
   "metadata": {
    "colab": {
     "base_uri": "https://localhost:8080/",
     "height": 1000,
     "referenced_widgets": [
      "43a1e71162e34e3c9d232f363fbe9dc8",
      "25263141f5564d7bbe2a394cc42c046c",
      "159a66d5099d425682c29cb59e066b9e",
      "221b50b42a404d8c83cdcad44e5e34d5",
      "9b6a7bba5ef342a195e1eac1975943e3",
      "cb3df98c8eb74431baa4821c8f499932",
      "d64d3695a45a4e689838482c116ff377",
      "fdd32bc7856d4ee6bf7f7786854a2893",
      "daefead77eb24b5881d8deab50a54597",
      "8f38d8dee94546e0ba8be201bc6198be",
      "8cba5c2710dc43399045ec50f0eca0a9",
      "054eca85ac4d4482b31f9b2344aeab3f",
      "a57ac0572240433e9c79daef2b9a2585",
      "f2fafc87ccfd465f9d43a0fe6170c78c",
      "1f64e21bc5d640cf97bf2a55eadbfafe",
      "f90961f4a8cd429bb90c0fbb6ccd7f40",
      "1b58e17f34614a31a314ac997870ff94",
      "a6544a3465d4475cafa03e642013a031",
      "6375e4687cd04494b99473376fe57647",
      "75025378190f47dd816047aaf6008d28",
      "ad269a2571ef43faaf0266a960e93d61",
      "a7576f3f2f144876bb7c0bd2174507c2",
      "3240ac1ceffe494a8af2acf065c6a12f",
      "19d6807cdd2a4c60b287679d6b5ee5f1",
      "49d19e210287454181bdc4c8a6765c26",
      "e97b73ce75154516969e7d498445e993",
      "e8e56eb40e51455997385acdb6e7db6d",
      "088987671b3342f1822640afc1bf4533",
      "99cdbdce8a5d418e8efff645aad29767",
      "5c1a28b29d0941e0bbe89c1abe658102",
      "ffc270e0876d419897091f1093a878a0",
      "4d314dcc08e04e009881cb64f0323e87",
      "27a53ec721e84a6f9f0246bdc1868bcb",
      "9dfc23e31ee94f82a210ef3fd5e4d4c7",
      "86b51bfef4ee449a94aa11ff7cc9efc5",
      "4787c11658894044a6a967aca6daf7c3",
      "8bae95b93db8491d88bf837983ff07a4",
      "979ceeecf05345d9bcf4a9ea72203de1",
      "8e7f8975ba52433daf0b17cca3fb3843",
      "95c2ae44310f48be8d1f9bb50be01f28",
      "769738b32ccf4c859394fec0f668a893",
      "195d18a66637408ba31b691043bceb6d",
      "46d51b44e8ef49dd89eefce584600111",
      "57e337189a7f411d8fe67d1023565f8d",
      "b86deceb68694ff98c7c54b453370e01",
      "b8dbf2517510447da98bcc4b7d259ac5",
      "fdda18894fea4cf5b72e4811976af498",
      "3493bb1b3b674e479099dc24f9911615",
      "56024cbc585d4d57a0f53f2409837caa",
      "f9afe9762f314d0d8eb025568e6d9de0",
      "582d47cc5d0c49708dcc1da559a20a80",
      "071dcc73683b49a88c367cbd820bc975",
      "d457b0401dda457e92f931b8e2f7cea0",
      "1ae552c37d644b14bf6b79a056bf2482",
      "c41e5a35b5d442c2a7ad3643d93a2702"
     ]
    },
    "id": "k8bRO_Bg_4oa",
    "outputId": "1a7ab82d-ee46-49ef-dcfe-f93f8ffed209"
   },
   "outputs": [
    {
     "name": "stdout",
     "output_type": "stream",
     "text": [
      "WARNING:tensorflow:From c:\\Users\\seren\\OneDrive\\SMU\\CS8321MLandNeuralNetworks\\Labs\\venv\\lib\\site-packages\\keras\\src\\losses.py:2976: The name tf.losses.sparse_softmax_cross_entropy is deprecated. Please use tf.compat.v1.losses.sparse_softmax_cross_entropy instead.\n",
      "\n"
     ]
    },
    {
     "name": "stderr",
     "output_type": "stream",
     "text": [
      "Some weights of BertForSequenceClassification were not initialized from the model checkpoint at bert-base-uncased and are newly initialized: ['classifier.bias', 'classifier.weight']\n",
      "You should probably TRAIN this model on a down-stream task to be able to use it for predictions and inference.\n"
     ]
    },
    {
     "data": {
      "text/plain": [
       "BertForSequenceClassification(\n",
       "  (bert): BertModel(\n",
       "    (embeddings): BertEmbeddings(\n",
       "      (word_embeddings): Embedding(30522, 768, padding_idx=0)\n",
       "      (position_embeddings): Embedding(512, 768)\n",
       "      (token_type_embeddings): Embedding(2, 768)\n",
       "      (LayerNorm): LayerNorm((768,), eps=1e-12, elementwise_affine=True)\n",
       "      (dropout): Dropout(p=0.1, inplace=False)\n",
       "    )\n",
       "    (encoder): BertEncoder(\n",
       "      (layer): ModuleList(\n",
       "        (0-11): 12 x BertLayer(\n",
       "          (attention): BertAttention(\n",
       "            (self): BertSdpaSelfAttention(\n",
       "              (query): Linear(in_features=768, out_features=768, bias=True)\n",
       "              (key): Linear(in_features=768, out_features=768, bias=True)\n",
       "              (value): Linear(in_features=768, out_features=768, bias=True)\n",
       "              (dropout): Dropout(p=0.1, inplace=False)\n",
       "            )\n",
       "            (output): BertSelfOutput(\n",
       "              (dense): Linear(in_features=768, out_features=768, bias=True)\n",
       "              (LayerNorm): LayerNorm((768,), eps=1e-12, elementwise_affine=True)\n",
       "              (dropout): Dropout(p=0.1, inplace=False)\n",
       "            )\n",
       "          )\n",
       "          (intermediate): BertIntermediate(\n",
       "            (dense): Linear(in_features=768, out_features=3072, bias=True)\n",
       "            (intermediate_act_fn): GELUActivation()\n",
       "          )\n",
       "          (output): BertOutput(\n",
       "            (dense): Linear(in_features=3072, out_features=768, bias=True)\n",
       "            (LayerNorm): LayerNorm((768,), eps=1e-12, elementwise_affine=True)\n",
       "            (dropout): Dropout(p=0.1, inplace=False)\n",
       "          )\n",
       "        )\n",
       "      )\n",
       "    )\n",
       "    (pooler): BertPooler(\n",
       "      (dense): Linear(in_features=768, out_features=768, bias=True)\n",
       "      (activation): Tanh()\n",
       "    )\n",
       "  )\n",
       "  (dropout): Dropout(p=0.1, inplace=False)\n",
       "  (classifier): Linear(in_features=768, out_features=3, bias=True)\n",
       ")"
      ]
     },
     "execution_count": 28,
     "metadata": {},
     "output_type": "execute_result"
    }
   ],
   "source": [
    "from transformers import BertTokenizer, BertForSequenceClassification, Trainer, TrainingArguments\n",
    "\n",
    "\n",
    "\n",
    "# Load a pre-trained BERT model\n",
    "model = BertForSequenceClassification.from_pretrained('bert-base-uncased',\n",
    "                                                      num_labels=3,\n",
    "                                                      output_hidden_states=False\n",
    "                                                     )\n",
    "tokenizer = BertTokenizer.from_pretrained('bert-base-uncased')\n",
    "model"
   ]
  },
  {
   "cell_type": "code",
   "execution_count": 29,
   "metadata": {
    "id": "oQBIPGk-q5lF",
    "outputId": "c15a7a33-52dd-4d15-e69e-54f59fe153bd"
   },
   "outputs": [
    {
     "name": "stdout",
     "output_type": "stream",
     "text": [
      "Using device: cuda\n"
     ]
    }
   ],
   "source": [
    "import torch\n",
    "device = torch.device(\"cuda\" if torch.cuda.is_available() else \"cpu\")\n",
    "print(f\"Using device: {device}\")"
   ]
  },
  {
   "cell_type": "code",
   "execution_count": 30,
   "metadata": {
    "id": "rfYwqyESq5lG",
    "outputId": "d5b97806-aa86-4f12-8df6-b878a739151e"
   },
   "outputs": [
    {
     "data": {
      "text/plain": [
       "BertForSequenceClassification(\n",
       "  (bert): BertModel(\n",
       "    (embeddings): BertEmbeddings(\n",
       "      (word_embeddings): Embedding(30522, 768, padding_idx=0)\n",
       "      (position_embeddings): Embedding(512, 768)\n",
       "      (token_type_embeddings): Embedding(2, 768)\n",
       "      (LayerNorm): LayerNorm((768,), eps=1e-12, elementwise_affine=True)\n",
       "      (dropout): Dropout(p=0.1, inplace=False)\n",
       "    )\n",
       "    (encoder): BertEncoder(\n",
       "      (layer): ModuleList(\n",
       "        (0-11): 12 x BertLayer(\n",
       "          (attention): BertAttention(\n",
       "            (self): BertSdpaSelfAttention(\n",
       "              (query): Linear(in_features=768, out_features=768, bias=True)\n",
       "              (key): Linear(in_features=768, out_features=768, bias=True)\n",
       "              (value): Linear(in_features=768, out_features=768, bias=True)\n",
       "              (dropout): Dropout(p=0.1, inplace=False)\n",
       "            )\n",
       "            (output): BertSelfOutput(\n",
       "              (dense): Linear(in_features=768, out_features=768, bias=True)\n",
       "              (LayerNorm): LayerNorm((768,), eps=1e-12, elementwise_affine=True)\n",
       "              (dropout): Dropout(p=0.1, inplace=False)\n",
       "            )\n",
       "          )\n",
       "          (intermediate): BertIntermediate(\n",
       "            (dense): Linear(in_features=768, out_features=3072, bias=True)\n",
       "            (intermediate_act_fn): GELUActivation()\n",
       "          )\n",
       "          (output): BertOutput(\n",
       "            (dense): Linear(in_features=3072, out_features=768, bias=True)\n",
       "            (LayerNorm): LayerNorm((768,), eps=1e-12, elementwise_affine=True)\n",
       "            (dropout): Dropout(p=0.1, inplace=False)\n",
       "          )\n",
       "        )\n",
       "      )\n",
       "    )\n",
       "    (pooler): BertPooler(\n",
       "      (dense): Linear(in_features=768, out_features=768, bias=True)\n",
       "      (activation): Tanh()\n",
       "    )\n",
       "  )\n",
       "  (dropout): Dropout(p=0.1, inplace=False)\n",
       "  (classifier): Linear(in_features=768, out_features=3, bias=True)\n",
       ")"
      ]
     },
     "execution_count": 30,
     "metadata": {},
     "output_type": "execute_result"
    }
   ],
   "source": [
    "model.to(device)"
   ]
  },
  {
   "cell_type": "markdown",
   "metadata": {
    "id": "_nyJ5FGxq5lG"
   },
   "source": [
    "Since the full dataset consists of 1,600,000 samples, fine-tuning BERT on my machine would take several days. To speed up the process while maintaining a representative subset, I will randomly sample 160,000 examples."
   ]
  },
  {
   "cell_type": "code",
   "execution_count": 31,
   "metadata": {
    "id": "5p211Weaq5lG",
    "outputId": "ddee62fb-8210-4479-ab6f-36fd72c21cb5"
   },
   "outputs": [
    {
     "name": "stdout",
     "output_type": "stream",
     "text": [
      "(160000, 7)\n"
     ]
    }
   ],
   "source": [
    "import pandas as pd\n",
    "subset_size = 160000  # New dataset size\n",
    "df = df.groupby(\"target\").sample(n=subset_size // df[\"target\"].nunique(), random_state=42)\n",
    "df = df.reset_index(drop=True)\n",
    "print(df.shape)\n",
    "\n",
    "\n"
   ]
  },
  {
   "cell_type": "code",
   "execution_count": 32,
   "metadata": {
    "id": "3lHpTmJQq5lG",
    "outputId": "c3c4f748-434c-4af5-c563-a2a989b85456"
   },
   "outputs": [
    {
     "name": "stdout",
     "output_type": "stream",
     "text": [
      "PyTorch Version: 2.6.0+cu118\n",
      "CUDA Available: True\n",
      "CUDA Version: 11.8\n",
      "GPU Name: NVIDIA GeForce RTX 4060\n",
      "Current Device: 0\n"
     ]
    }
   ],
   "source": [
    "import torch\n",
    "\n",
    "print(\"PyTorch Version:\", torch.__version__)\n",
    "print(\"CUDA Available:\", torch.cuda.is_available())\n",
    "print(\"CUDA Version:\", torch.version.cuda)\n",
    "print(\"GPU Name:\", torch.cuda.get_device_name(0) if torch.cuda.is_available() else \"None\")\n",
    "print(\"Current Device:\", torch.cuda.current_device() if torch.cuda.is_available() else \"None\")\n"
   ]
  },
  {
   "cell_type": "code",
   "execution_count": 33,
   "metadata": {
    "colab": {
     "base_uri": "https://localhost:8080/"
    },
    "id": "BnlLEGJsOMYW",
    "outputId": "1d3e65c3-7cb3-4fc6-a0a8-89f1f1955498"
   },
   "outputs": [
    {
     "name": "stdout",
     "output_type": "stream",
     "text": [
      "Number of words in text: 11, Number of tokens: 12\n",
      "{'input_ids': tensor([[ 101, 2821, 2053, 2073, 2106, 1057, 2344, 2013, 2008, 2015, 9202,  102]]), 'token_type_ids': tensor([[0, 0, 0, 0, 0, 0, 0, 0, 0, 0, 0, 0]]), 'attention_mask': tensor([[1, 1, 1, 1, 1, 1, 1, 1, 1, 1, 1, 1]])}\n",
      " oh no where did u order from thats horrible \n"
     ]
    }
   ],
   "source": [
    "# Check an example\n",
    "example = df.clean_text[0]\n",
    "encoded_input = tokenizer(example, return_tensors='pt') # pt is the PyTorch model\n",
    "# send to GPU\n",
    "print(f\"Number of words in text: {len(example.split(' '))}, Number of tokens: {len(encoded_input.input_ids[0])}\")\n",
    "\n",
    "print(encoded_input)\n",
    "print(example)"
   ]
  },
  {
   "cell_type": "code",
   "execution_count": 34,
   "metadata": {
    "colab": {
     "base_uri": "https://localhost:8080/"
    },
    "id": "aj4MSmfIPfdL",
    "outputId": "52ccb48f-16fe-496d-d3b8-91af12cd4d18"
   },
   "outputs": [
    {
     "name": "stdout",
     "output_type": "stream",
     "text": [
      "SequenceClassifierOutput(loss=None, logits=tensor([[-0.1070, -0.2685, -0.2760]], device='cuda:0',\n",
      "       grad_fn=<AddmmBackward0>), hidden_states=None, attentions=None)\n"
     ]
    }
   ],
   "source": [
    "example = df.clean_text[0]\n",
    "encoded_input = tokenizer(example, return_tensors='pt') # pt is the PyTorch model\n",
    "# send to GPU\n",
    "\n",
    "for k in encoded_input.keys():\n",
    "    encoded_input[k] = encoded_input[k].to(device)\n",
    "# get model output\n",
    "output = model(**encoded_input)\n",
    "print(output)"
   ]
  },
  {
   "cell_type": "markdown",
   "metadata": {
    "id": "ny9aeXqwGcVC"
   },
   "source": [
    "Send training dataset through base model and save out bottleneck features"
   ]
  },
  {
   "cell_type": "code",
   "execution_count": 35,
   "metadata": {
    "colab": {
     "base_uri": "https://localhost:8080/"
    },
    "id": "wi83zvRIEikK",
    "outputId": "abb1ece9-5041-41d4-de00-cea755aabe27"
   },
   "outputs": [
    {
     "name": "stderr",
     "output_type": "stream",
     "text": [
      "Encoding: 100%|██████████| 160000/160000 [00:35<00:00, 4548.57it/s]\n"
     ]
    }
   ],
   "source": [
    "# Use BERT Embeddings to tokenize the proprocessed tweet dataset\n",
    "\n",
    "from tqdm import tqdm, trange\n",
    "max_seq_length = 40\n",
    "encoded_dataset = []\n",
    "samples_processed = 0\n",
    "for clean_text, target in tqdm(zip(df['clean_text'], df['target']), desc=\"Encoding\", total=len(df.target)):\n",
    "    encoded_example = tokenizer(clean_text, return_tensors='pt',\n",
    "                                max_length=max_seq_length,\n",
    "                                padding='max_length',\n",
    "                                truncation=True)\n",
    "\n",
    "    # add one more dictionary entry for the label\n",
    "    encoded_example['label_id'] = target\n",
    "    assert len(encoded_example.input_ids[0]) == max_seq_length\n",
    "    encoded_dataset.append(encoded_example)\n",
    "\n",
    "\n"
   ]
  },
  {
   "cell_type": "code",
   "execution_count": 36,
   "metadata": {
    "colab": {
     "base_uri": "https://localhost:8080/"
    },
    "id": "CFqQdIshIzRP",
    "outputId": "fb153e56-f155-4464-c87c-6066bc151dd0"
   },
   "outputs": [
    {
     "name": "stdout",
     "output_type": "stream",
     "text": [
      "Encoded dataset length: 160000, save encoded dataset with the following fields: dict_keys(['input_ids', 'token_type_ids', 'attention_mask', 'label_id'])\n"
     ]
    }
   ],
   "source": [
    "print(f'Encoded dataset length: {len(encoded_dataset)}, save encoded dataset with the following fields: {encoded_dataset[0].keys()}')"
   ]
  },
  {
   "cell_type": "code",
   "execution_count": 37,
   "metadata": {
    "id": "wd7_O5YsJbEZ"
   },
   "outputs": [],
   "source": [
    "# import torch\n",
    "\n",
    "# # Save the encoded dataset to a file so we don't need to run the BERT Tokenizer repeatedly - save runing time\n",
    "# torch.save(encoded_dataset, 'encoded_tweets_dataset.pt')\n",
    "\n",
    "# # Later, to load the encoded dataset:\n",
    "# # encoded_dataset = torch.load('encoded_tweets_dataset.pt')\n"
   ]
  },
  {
   "cell_type": "code",
   "execution_count": 38,
   "metadata": {
    "colab": {
     "base_uri": "https://localhost:8080/"
    },
    "id": "gDl9G9VPNjll",
    "outputId": "a635d26d-4d8c-4dc7-8c3c-0466475ed00b"
   },
   "outputs": [
    {
     "name": "stdout",
     "output_type": "stream",
     "text": [
      "tmp shape: torch.Size([160000, 40])\n"
     ]
    },
    {
     "data": {
      "text/plain": [
       "tensor([[  101,  2821,  2053,  ...,     0,     0,     0],\n",
       "        [  101,  1037,  2307,  ...,     0,     0,     0],\n",
       "        [  101,  2157,  2125,  ...,     0,     0,     0],\n",
       "        ...,\n",
       "        [  101, 11688, 10047,  ...,     0,     0,     0],\n",
       "        [  101,  2012, 21318,  ...,     0,     0,     0],\n",
       "        [  101,  2018,  2061,  ...,     0,     0,     0]])"
      ]
     },
     "execution_count": 38,
     "metadata": {},
     "output_type": "execute_result"
    }
   ],
   "source": [
    "# combine the tensors in the next cell\n",
    "tmp = torch.cat([d.input_ids for d in encoded_dataset], dim=0)\n",
    "print(f'tmp shape: {tmp.shape}')\n",
    "tmp"
   ]
  },
  {
   "cell_type": "code",
   "execution_count": 39,
   "metadata": {
    "colab": {
     "base_uri": "https://localhost:8080/"
    },
    "id": "SxPoDUSpsyHq",
    "outputId": "bcb2e98d-319b-46b4-855a-792b46733aa1"
   },
   "outputs": [
    {
     "name": "stdout",
     "output_type": "stream",
     "text": [
      "Created two datasets training/eval. Training samples: 128000, Evaluation: 32000\n"
     ]
    }
   ],
   "source": [
    "from torch.utils.data import DataLoader, RandomSampler, SequentialSampler, TensorDataset\n",
    "from torch.utils.data import random_split\n",
    "\n",
    "BATCH_SIZE = 16\n",
    "TRAIN_PERC = 0.8 # want 80% for training\n",
    "\n",
    "total_len = len(df.target)\n",
    "train_size = int(TRAIN_PERC*total_len) # number of docs to get to train percentage\n",
    "eval_size = total_len - train_size # and remainder for evaluation\n",
    "\n",
    "# Need to create dataset from 'input_ids', 'token_type_ids', 'attention_mask', 'label_id'\n",
    "# concatenate the tensors to make one large tensor (each row is a document)\n",
    "all_data = TensorDataset(torch.cat([d.input_ids for d in encoded_dataset], dim=0),\n",
    "                           torch.cat([d.attention_mask for d in encoded_dataset], dim=0),\n",
    "                           torch.cat([d.token_type_ids for d in encoded_dataset], dim=0),\n",
    "                           torch.tensor([d.label_id for d in encoded_dataset], dtype=torch.long)\n",
    "                          )\n",
    "\n",
    "train_data, eval_data = random_split(all_data, [train_size, eval_size])\n",
    "\n",
    "# sample at random from these tensors and setup a loader to loop through the model\n",
    "train_sampler = RandomSampler(train_data)\n",
    "# train_dataloader = DataLoader(train_data, sampler=train_sampler, batch_size=BATCH_SIZE)\n",
    "train_dataloader = DataLoader(train_data, batch_size=BATCH_SIZE, shuffle=True, num_workers=4, pin_memory=True)\n",
    "\n",
    "eval_sampler = SequentialSampler(eval_data)\n",
    "# eval_dataloader = DataLoader(eval_data, sampler=eval_sampler, batch_size=BATCH_SIZE)\n",
    "eval_dataloader = DataLoader(eval_data, batch_size=BATCH_SIZE, shuffle=False, num_workers=4, pin_memory=True)\n",
    "\n",
    "print(f\"Created two datasets training/eval. Training samples: {train_size}, Evaluation: {eval_size}\")\n",
    "\n",
    "# free up some memory, already saved in the new dataset\n",
    "del encoded_dataset\n"
   ]
  },
  {
   "cell_type": "markdown",
   "metadata": {
    "id": "A38r6fLluclu"
   },
   "source": [
    "**Step 2: Train BERT**\n",
    " - Train bottleneck features in new task\n",
    " - Typically 5-10 epochs is sufficient as it's easy to overfit\n",
    " - Larger Training step size is suggested"
   ]
  },
  {
   "cell_type": "code",
   "execution_count": 40,
   "metadata": {
    "colab": {
     "base_uri": "https://localhost:8080/"
    },
    "id": "qUTHHjBguhmM",
    "outputId": "bcc694bd-7a6d-40cc-9db3-dbdda01d5bd3"
   },
   "outputs": [
    {
     "name": "stdout",
     "output_type": "stream",
     "text": [
      "There are 16 samples in the batch, each of size 3\n",
      "The total loss value is 1.0412546396255493\n"
     ]
    }
   ],
   "source": [
    "from torch.nn import CrossEntropyLoss\n",
    "from transformers import DataCollatorWithPadding\n",
    "\n",
    "# #Use DataCollatorWithPadding instead of manually handling padding.\n",
    "# data_collator = DataCollatorWithPadding(tokenizer, return_tensors=\"pt\")\n",
    "# train_dataloader = DataLoader(train_data, batch_size=16, collate_fn=data_collator)\n",
    "# eval_dataloader = DataLoader(eval_data, batch_size=16, collate_fn=data_collator)\n",
    "\n",
    "# grab one batch\n",
    "batch = next(iter(train_dataloader))\n",
    "input_ids, attention_mask, token_type_ids, labels = batch\n",
    "\n",
    "# Send them to GPU/CPU device:\n",
    "input_ids = input_ids.to(device)\n",
    "attention_mask = attention_mask.to(device)\n",
    "token_type_ids = token_type_ids.to(device)\n",
    "labels = labels.to(device)\n",
    "\n",
    "# Forward pass:\n",
    "output = model(\n",
    "    input_ids=input_ids,\n",
    "    attention_mask=attention_mask,\n",
    "    token_type_ids=token_type_ids,\n",
    "    labels=labels\n",
    ")\n",
    "\n",
    "print(f\"There are {len(output.logits)} samples in the batch, each of size {len(output.logits[0])}\")\n",
    "print(f\"The total loss value is {output.loss}\")\n"
   ]
  },
  {
   "cell_type": "markdown",
   "metadata": {
    "id": "HQnvDBDH40yB"
   },
   "source": [
    " **On current fine-tune step, we will only unfreeze two layers.** Train:\n",
    " - the final layer of BERT, the 'classifier'\n",
    " - the pooler   \n",
    "\n",
    "Afterward, verify that the model converges by 2 epochs."
   ]
  },
  {
   "cell_type": "code",
   "execution_count": 41,
   "metadata": {
    "id": "zN5dt_a_4zjs"
   },
   "outputs": [],
   "source": [
    "# Setup some tracking\n",
    "history = {}\n",
    "history['train_loss'] = []\n",
    "history['val_loss'] = []\n",
    "\n",
    "from torch.optim import Adam\n",
    "import torch.optim.lr_scheduler as lr_scheduler\n",
    "\n",
    "TOTAL_EPOCHS = 2 # small number of epochs here in to classifier and pooler working together\n",
    "\n",
    "# Only train the final layer of BERT\n",
    "for param in model.bert.parameters():\n",
    "    param.requires_grad = False\n",
    "\n",
    "# only train the parameters for pooler and the classifier\n",
    "for param in model.bert.pooler.parameters():\n",
    "    param.requires_grad = True\n",
    "\n",
    "for param in model.classifier.parameters():\n",
    "    param.requires_grad = True\n",
    "\n",
    "train_params = list(model.bert.pooler.parameters()) + list(model.classifier.parameters())\n",
    "\n",
    "# Tell the optimizer to only optimize these parameters in the model\n",
    "optimizer = Adam(train_params)\n"
   ]
  },
  {
   "cell_type": "code",
   "execution_count": 42,
   "metadata": {
    "id": "5AyWi899q5lJ",
    "outputId": "8d739c66-6864-4567-f07a-2a3045fc9373"
   },
   "outputs": [
    {
     "name": "stderr",
     "output_type": "stream",
     "text": [
      "Epoch: 100%|██████████| 2/2 [05:04<00:00, 152.37s/it, loss=0.48]        \n"
     ]
    }
   ],
   "source": [
    "from torch.amp import autocast, GradScaler\n",
    "import time\n",
    "\n",
    "scaler = GradScaler(device=\"cuda\")\n",
    "\n",
    "with trange(TOTAL_EPOCHS, desc=\"Epoch\") as pbar:\n",
    "    for epoch in pbar:\n",
    "        model.train()\n",
    "        total_loss = 0.0\n",
    "\n",
    "        for batch_idx, batch in enumerate(tqdm(train_dataloader, desc=f\"Training {epoch}\", total=int(train_size/BATCH_SIZE)+1, leave=False)):\n",
    "            batch = tuple(t.to(device) for t in batch)\n",
    "            input_ids, attention_mask, token_type_ids, labels = batch\n",
    "            optimizer.zero_grad()\n",
    "\n",
    "            with autocast(device_type=\"cuda\", dtype=torch.float16):\n",
    "                output = model(\n",
    "                    input_ids=input_ids,\n",
    "                    attention_mask=attention_mask,\n",
    "                    token_type_ids=token_type_ids,\n",
    "                    labels=labels\n",
    "                )\n",
    "                loss = output.loss\n",
    "\n",
    "            # Use GradScaler for stable FP16 training\n",
    "            scaler.scale(loss).backward()\n",
    "            scaler.step(optimizer)\n",
    "            scaler.update()\n",
    "\n",
    "            # Track training loss\n",
    "            total_loss += loss.item() * BATCH_SIZE\n",
    "            pbar.set_postfix(train_loss=f\"{total_loss / ((batch_idx + 1) * BATCH_SIZE):.4f}\")\n",
    "            pbar.refresh()\n",
    "\n",
    "            # Free GPU memory every 5 batches\n",
    "            if batch_idx % 5 == 0:\n",
    "                torch.cuda.empty_cache()\n",
    "\n",
    "        total_loss = total_loss / train_size\n",
    "        history['train_loss'].append(total_loss)\n",
    "\n",
    "        # Evaluation Phase\n",
    "        model.eval()\n",
    "        total_loss = 0.0\n",
    "        with torch.no_grad():\n",
    "            for batch in tqdm(eval_dataloader, desc=f\"Evaluating {epoch}\", total=int(eval_size/BATCH_SIZE)+1, leave=False):\n",
    "                batch = tuple(t.to(device) for t in batch)\n",
    "                input_ids, attention_mask, token_type_ids, labels = batch\n",
    "                output = model(\n",
    "                    input_ids,\n",
    "                    attention_mask,\n",
    "                    token_type_ids,\n",
    "                    labels=labels\n",
    "                )\n",
    "                total_loss += output.loss.item() * BATCH_SIZE\n",
    "\n",
    "            # Calculate validation loss\n",
    "            total_loss = total_loss / eval_size\n",
    "            history['val_loss'].append(total_loss)\n",
    "        pbar.set_postfix(loss=f\"{total_loss:.2f}\")\n"
   ]
  },
  {
   "cell_type": "code",
   "execution_count": 43,
   "metadata": {
    "id": "dyVHxquktm6A"
   },
   "outputs": [],
   "source": [
    "oldGPU_traintime=\"39m 16s\"\n",
    "Latest_GPU_NVIDIA_GeForce_RTX_4060_traintime=\"5m 11.7s\""
   ]
  },
  {
   "cell_type": "code",
   "execution_count": 44,
   "metadata": {
    "id": "IIoQJjIqvq8s",
    "outputId": "3d46bfef-af73-4042-e3a1-bb2c8c098955"
   },
   "outputs": [
    {
     "name": "stderr",
     "output_type": "stream",
     "text": [
      "Evaluating: 100%|█████████▉| 2000/2001 [00:40<00:00, 49.81it/s]\n"
     ]
    }
   ],
   "source": [
    "all_preds = []\n",
    "all_labels = []\n",
    "\n",
    "model.eval() # set model to evaluation mode (no dropout, etc.)\n",
    "\n",
    "# run evaluation without tracking gradient operations\n",
    "with torch.no_grad():\n",
    "  for batch in tqdm(eval_dataloader, desc=\"Evaluating\", total=int(eval_size/BATCH_SIZE)+1):\n",
    "      batch = tuple(t.to(device) for t in batch) # send to GPU\n",
    "      input_ids, attention_mask, token_type_ids, labels = batch\n",
    "      output = model(\n",
    "            input_ids,\n",
    "            attention_mask,\n",
    "            token_type_ids,\n",
    "            labels=labels)\n",
    "\n",
    "      # Save these model outputs ad numpy arrays:\n",
    "        # 1. detach the tensors from the computation graph\n",
    "        # 2. copy the tensor over to the cpu (from the GPU)\n",
    "        # 3. then convert to numpy\n",
    "        # 4. save this numpy vector in a list of other vectors\n",
    "        # stack the vectors from the list into one big numpy vector later\n",
    "      all_preds.append(output.logits.detach().cpu().numpy())\n",
    "      all_labels.append(labels.cpu().numpy())\n"
   ]
  },
  {
   "cell_type": "markdown",
   "metadata": {
    "id": "UXGXGEtUw4qa"
   },
   "source": [
    "In next step:  verify that the model converges\n"
   ]
  },
  {
   "cell_type": "code",
   "execution_count": 45,
   "metadata": {
    "id": "kHxuHU9bAJ1q",
    "outputId": "c5197cd6-cb2d-4ffc-d9e7-41651bfef68b"
   },
   "outputs": [
    {
     "name": "stdout",
     "output_type": "stream",
     "text": [
      "Accuracy: 0.77\n"
     ]
    },
    {
     "data": {
      "image/png": "[encoded data removed]",
      "text/plain": [
       "<Figure size 640x480 with 1 Axes>"
      ]
     },
     "metadata": {},
     "output_type": "display_data"
    }
   ],
   "source": [
    "from sklearn.metrics import accuracy_score\n",
    "\n",
    "# Combine the individual batched outputs and argmax for the predictions\n",
    "\n",
    "# stack lable array into vector of class index [0, 1, 2, 3.]\n",
    "labels_array = np.hstack(all_labels)\n",
    "# stack each prediction into matrix where row=[net outpu array] and col=[each class probaability]\n",
    "# take argmax across each network output to collapse these into a vector of int classes [1, 2,..]\n",
    "preds_array = np.argmax(np.vstack(all_preds), axis=1)\n",
    "\n",
    "# combine the preds and labels and compare with sklearn metrics\n",
    "print(f\"Accuracy: {accuracy_score(labels_array, preds_array):.2f}\")\n",
    "\n",
    "plt.plot(history['train_loss'], label='Train Loss')\n",
    "plt.plot(history['val_loss'], label='Validation Loss')\n",
    "plt.xlabel('Epoch')\n",
    "plt.ylabel('Loss')\n",
    "plt.title('Bottleneck Featuress Fine-Tuning Training/Validation Loss')\n",
    "plt.legend()\n",
    "plt.show()\n"
   ]
  },
  {
   "cell_type": "markdown",
   "metadata": {
    "id": "LeC_9nECfG8x"
   },
   "source": [
    "## 10. Transfer Learning Model\n"
   ]
  },
  {
   "cell_type": "markdown",
   "metadata": {
    "id": "sG0M_Lguq5lK"
   },
   "source": [
    "**Rinse and Repeat unfreeing more layers from BERT base model**\n",
    "- Unfreeze one additional layer, beside the output classifer and pooler layers"
   ]
  },
  {
   "cell_type": "code",
   "execution_count": 46,
   "metadata": {
    "id": "yLrfCL9sCwJ5",
    "outputId": "dad92a97-e655-476e-ccdf-94f0604ad3b2"
   },
   "outputs": [
    {
     "data": {
      "text/plain": [
       "BertLayer(\n",
       "  (attention): BertAttention(\n",
       "    (self): BertSdpaSelfAttention(\n",
       "      (query): Linear(in_features=768, out_features=768, bias=True)\n",
       "      (key): Linear(in_features=768, out_features=768, bias=True)\n",
       "      (value): Linear(in_features=768, out_features=768, bias=True)\n",
       "      (dropout): Dropout(p=0.1, inplace=False)\n",
       "    )\n",
       "    (output): BertSelfOutput(\n",
       "      (dense): Linear(in_features=768, out_features=768, bias=True)\n",
       "      (LayerNorm): LayerNorm((768,), eps=1e-12, elementwise_affine=True)\n",
       "      (dropout): Dropout(p=0.1, inplace=False)\n",
       "    )\n",
       "  )\n",
       "  (intermediate): BertIntermediate(\n",
       "    (dense): Linear(in_features=768, out_features=3072, bias=True)\n",
       "    (intermediate_act_fn): GELUActivation()\n",
       "  )\n",
       "  (output): BertOutput(\n",
       "    (dense): Linear(in_features=3072, out_features=768, bias=True)\n",
       "    (LayerNorm): LayerNorm((768,), eps=1e-12, elementwise_affine=True)\n",
       "    (dropout): Dropout(p=0.1, inplace=False)\n",
       "  )\n",
       ")"
      ]
     },
     "execution_count": 46,
     "metadata": {},
     "output_type": "execute_result"
    }
   ],
   "source": [
    "# access the final layer of BERT, before the pooler\n",
    "# we will use only the final pooling layer\n",
    "model.bert.encoder.layer[-1]\n"
   ]
  },
  {
   "cell_type": "code",
   "execution_count": 47,
   "metadata": {
    "id": "cihwTfMTIlfL",
    "outputId": "644cb0e0-6d72-4923-fddb-ea0fe8a6c9c5"
   },
   "outputs": [
    {
     "name": "stderr",
     "output_type": "stream",
     "text": [
      "Epoch: 100%|██████████| 20/20 [1:03:26<00:00, 190.31s/it, loss=0.41]        \n"
     ]
    }
   ],
   "source": [
    "\n",
    "TOTAL_EPOCHS = 20\n",
    "\n",
    "# unfreeze additonal weights for fine tuning\n",
    "for param in model.parameters():\n",
    "    param.requires_grad = False\n",
    "\n",
    "# for param in model.bert.encoder.layer[-2].parameters():\n",
    "#     param.requires_grad = True\n",
    "\n",
    "for param in model.bert.encoder.layer[-1].parameters():\n",
    "    param.requires_grad = True\n",
    "\n",
    "for param in model.bert.pooler.parameters():\n",
    "    param.requires_grad = True\n",
    "\n",
    "for param in model.classifier.parameters():\n",
    "    param.requires_grad = True\n",
    "\n",
    "\n",
    "train_params = list(model.classifier.parameters()) + list(model.bert.pooler.parameters()) + list(model.bert.encoder.layer[-1].parameters())\n",
    "\n",
    "# Set optimizer to optimize these parameters with given weight decay\n",
    "optimizer = Adam(train_params)\n",
    "scheduler = lr_scheduler.LinearLR(optimizer, start_factor=0.01, end_factor=0.001, total_iters = TOTAL_EPOCHS)\n",
    "\n",
    "\n",
    "from torch.amp import autocast, GradScaler\n",
    "import time\n",
    "\n",
    "scaler = GradScaler(device=\"cuda\")\n",
    "\n",
    "with trange(TOTAL_EPOCHS, desc=\"Epoch\") as pbar:\n",
    "    for epoch in pbar:\n",
    "        model.train()\n",
    "        total_loss = 0.0\n",
    "\n",
    "        for batch_idx, batch in enumerate(tqdm(train_dataloader, desc=f\"Training {epoch}\", total=int(train_size/BATCH_SIZE)+1, leave=False)):\n",
    "            batch = tuple(t.to(device) for t in batch)\n",
    "            input_ids, attention_mask, token_type_ids, labels = batch\n",
    "            optimizer.zero_grad()\n",
    "\n",
    "            with autocast(device_type=\"cuda\", dtype=torch.float16):\n",
    "                output = model(\n",
    "                    input_ids=input_ids,\n",
    "                    attention_mask=attention_mask,\n",
    "                    token_type_ids=token_type_ids,\n",
    "                    labels=labels\n",
    "                )\n",
    "                loss = output.loss\n",
    "\n",
    "            # Use GradScaler for stable FP16 training\n",
    "            scaler.scale(loss).backward()\n",
    "            scaler.step(optimizer)\n",
    "            scaler.update()\n",
    "\n",
    "            # Track training loss\n",
    "            total_loss += loss.item() * BATCH_SIZE\n",
    "            pbar.set_postfix(train_loss=f\"{total_loss / ((batch_idx + 1) * BATCH_SIZE):.4f}\")\n",
    "            pbar.refresh()\n",
    "\n",
    "            # Free GPU memory every 5 batches\n",
    "            if batch_idx % 5 == 0:\n",
    "                torch.cuda.empty_cache()\n",
    "\n",
    "        total_loss = total_loss / train_size\n",
    "        history['train_loss'].append(total_loss)\n",
    "\n",
    "          # reduce the LR between epochs\n",
    "        scheduler.step()\n",
    "\n",
    "        # Evaluation Phase\n",
    "        model.eval()\n",
    "        total_loss = 0.0\n",
    "        with torch.no_grad():\n",
    "            for batch in tqdm(eval_dataloader, desc=f\"Evaluating {epoch}\", total=int(eval_size/BATCH_SIZE)+1, leave=False):\n",
    "                batch = tuple(t.to(device) for t in batch)\n",
    "                input_ids, attention_mask, token_type_ids, labels = batch\n",
    "                output = model(\n",
    "                    input_ids,\n",
    "                    attention_mask,\n",
    "                    token_type_ids,\n",
    "                    labels=labels\n",
    "                )\n",
    "                total_loss += output.loss.item() * BATCH_SIZE\n",
    "\n",
    "            # Calculate validation loss\n",
    "            total_loss = total_loss / eval_size\n",
    "            history['val_loss'].append(total_loss)\n",
    "        pbar.set_postfix(loss=f\"{total_loss:.2f}\")\n",
    "\n"
   ]
  },
  {
   "cell_type": "code",
   "execution_count": 48,
   "metadata": {
    "id": "kWtyWR1rtUdN"
   },
   "outputs": [],
   "source": [
    "OldGPU_traintime_unfree_one_more_layer = \"951m 16.5s\"\n",
    "Latest_GPU_NVIDIA_GeForce_RTX_4060_unfree_one_more_layer = \"60m 36.2s\""
   ]
  },
  {
   "cell_type": "code",
   "execution_count": 49,
   "metadata": {
    "id": "66XF9YXHq5lK",
    "outputId": "e6e4720d-31ba-4ee4-a971-ad6f3695e494"
   },
   "outputs": [
    {
     "data": {
      "text/plain": [
       "('bert-finetuned-unfreeze-one-more-layer\\\\tokenizer_config.json',\n",
       " 'bert-finetuned-unfreeze-one-more-layer\\\\special_tokens_map.json',\n",
       " 'bert-finetuned-unfreeze-one-more-layer\\\\vocab.txt',\n",
       " 'bert-finetuned-unfreeze-one-more-layer\\\\added_tokens.json')"
      ]
     },
     "execution_count": 49,
     "metadata": {},
     "output_type": "execute_result"
    }
   ],
   "source": [
    "model.save_pretrained(\"bert-finetuned-unfreeze-one-more-layer\")\n",
    "tokenizer.save_pretrained(\"bert-finetuned-unfreeze-one-more-layer\")\n",
    "\n",
    "# from transformers import BertTokenizer, BertForSequenceClassification\n",
    "# model = BertForSequenceClassification.from_pretrained(\"bert-finetuned-unfreeze-one-more-layer\")\n",
    "# tokenizer = BertTokenizer.from_pretrained(\"bert-finetuned-unfreeze-one-more-layer\")"
   ]
  },
  {
   "cell_type": "markdown",
   "metadata": {
    "id": "-Bt5wzvDDMuZ"
   },
   "source": []
  },
  {
   "cell_type": "code",
   "execution_count": 50,
   "metadata": {
    "id": "PHh7j0-VDHBX",
    "outputId": "c024c61e-32cb-406a-8bb6-d8db6f2e0224"
   },
   "outputs": [
    {
     "name": "stderr",
     "output_type": "stream",
     "text": [
      "Evaluating: 100%|█████████▉| 2000/2001 [00:40<00:00, 49.15it/s]\n"
     ]
    }
   ],
   "source": [
    "all_preds = []\n",
    "all_labels = []\n",
    "\n",
    "model.eval() # set model to evaluation mode (no dropout, etc.)\n",
    "\n",
    "# run evaluation without tracking gradient operations\n",
    "with torch.no_grad():\n",
    "  for batch in tqdm(eval_dataloader, desc=\"Evaluating\", total=int(eval_size/BATCH_SIZE)+1):\n",
    "\n",
    "      batch = tuple(t.to(device) for t in batch) # send to GPU\n",
    "      input_ids, attention_mask, token_type_ids, labels = batch\n",
    "\n",
    "      output = model(\n",
    "            input_ids,\n",
    "            attention_mask,\n",
    "            token_type_ids,\n",
    "            labels=labels)\n",
    "\n",
    "      # Save these model outputs ad numpy arrays\n",
    "      all_preds.append(output.logits.detach().cpu().numpy())\n",
    "      all_labels.append(labels.cpu().numpy())\n"
   ]
  },
  {
   "cell_type": "code",
   "execution_count": 51,
   "metadata": {
    "id": "oEhGYFKqq5lL"
   },
   "outputs": [],
   "source": [
    "import torch\n",
    "\n",
    "model.eval()  # Set model to evaluation mode\n",
    "\n",
    "# Function to extract embeddings\n",
    "def extract_embeddings(dataloader, model, device):\n",
    "    embeddings = []\n",
    "    labels = []\n",
    "    with torch.no_grad():\n",
    "        for batch in dataloader:\n",
    "            input_ids, attention_mask, token_type_ids, label = [t.to(device) for t in batch]\n",
    "            output = model.bert(input_ids, attention_mask=attention_mask, token_type_ids=token_type_ids)\n",
    "            last_hidden_states = output.last_hidden_state  # Get last hidden states\n",
    "            pooler_output = output.pooler_output  # Get pooled output (sentence-level embedding)\n",
    "\n",
    "            embeddings.append(pooler_output.cpu())  # Store only pooled output\n",
    "            labels.append(label.cpu())\n",
    "\n",
    "    return torch.cat(embeddings), torch.cat(labels)\n",
    "\n",
    "# Extract embeddings from train & eval datasets\n",
    "train_embeddings, train_labels = extract_embeddings(train_dataloader, model, device)\n",
    "eval_embeddings, eval_labels = extract_embeddings(eval_dataloader, model, device)\n",
    "\n",
    "# Save embeddings\n",
    "torch.save({\"embeddings\": train_embeddings, \"labels\": train_labels}, \"train_embeddings_unfreezed_1more_layer.pt\")\n",
    "torch.save({\"embeddings\": eval_embeddings, \"labels\": eval_labels}, \"eval_embeddings_unfreezed_1more_layer.pt\")\n"
   ]
  },
  {
   "cell_type": "code",
   "execution_count": 52,
   "metadata": {
    "id": "LNDLFuYODHSj",
    "outputId": "3991684e-e94e-4f52-b942-7a0be7c9ec71"
   },
   "outputs": [
    {
     "name": "stdout",
     "output_type": "stream",
     "text": [
      "0.8201875\n"
     ]
    },
    {
     "data": {
      "image/png": "[encoded data removed]",
      "text/plain": [
       "<Figure size 640x480 with 1 Axes>"
      ]
     },
     "metadata": {},
     "output_type": "display_data"
    }
   ],
   "source": [
    "labels_array = np.hstack(all_labels)\n",
    "preds_array = np.argmax(np.vstack(all_preds), axis=1)\n",
    "print(accuracy_score(labels_array, preds_array))\n",
    "plt.plot(history['train_loss'], label='Train Loss')\n",
    "plt.plot(history['val_loss'], label='Validation Loss')\n",
    "plt.xlabel('Epoch')\n",
    "plt.ylabel('Loss')\n",
    "plt.title('One more layers Fine-Tuning Training/Validation Loss')\n",
    "plt.legend()\n",
    "plt.show()\n",
    "\n",
    "\n"
   ]
  },
  {
   "cell_type": "code",
   "execution_count": 53,
   "metadata": {
    "id": "b9AEFfxWDHlL"
   },
   "outputs": [],
   "source": [
    "import pandas as pd\n",
    "import matplotlib.pyplot as plt\n",
    "\n",
    "training_results = {\n",
    "    \"Model\": [\"BERT-FineTuning-Classifier-Pooler-BottleNeck\", \"BERT-FineTuning-Classifier-Pooler-Unfreeze-One-More-Layer\"],\n",
    "    \"Epochs\": [2, 20],\n",
    "    \"Training Time (minutes)\": [39 + 16/60, 951 + 16.5/60],  # Convert time to minutes\n",
    "    \"Accuracy\": [0.76, 0.81453125]\n",
    "}\n",
    "\n",
    "df_results_BERT_FineTuning = pd.DataFrame(training_results)"
   ]
  },
  {
   "cell_type": "code",
   "execution_count": 54,
   "metadata": {
    "id": "aCfY9Hivq5lL",
    "outputId": "ac358f6c-aa29-41fd-b01d-8abe1b6cd52a"
   },
   "outputs": [
    {
     "data": {
      "text/html": [
       "<div>\n",
       "<style scoped>\n",
       "    .dataframe tbody tr th:only-of-type {\n",
       "        vertical-align: middle;\n",
       "    }\n",
       "\n",
       "    .dataframe tbody tr th {\n",
       "        vertical-align: top;\n",
       "    }\n",
       "\n",
       "    .dataframe thead th {\n",
       "        text-align: right;\n",
       "    }\n",
       "</style>\n",
       "<table border=\"1\" class=\"dataframe\">\n",
       "  <thead>\n",
       "    <tr style=\"text-align: right;\">\n",
       "      <th></th>\n",
       "      <th>Model</th>\n",
       "      <th>Epochs</th>\n",
       "      <th>Training Time (minutes)</th>\n",
       "      <th>Accuracy</th>\n",
       "    </tr>\n",
       "  </thead>\n",
       "  <tbody>\n",
       "    <tr>\n",
       "      <th>0</th>\n",
       "      <td>BERT-FineTuning-Classifier-Pooler-BottleNeck</td>\n",
       "      <td>2</td>\n",
       "      <td>39.266667</td>\n",
       "      <td>0.760000</td>\n",
       "    </tr>\n",
       "    <tr>\n",
       "      <th>1</th>\n",
       "      <td>BERT-FineTuning-Classifier-Pooler-Unfreeze-One...</td>\n",
       "      <td>20</td>\n",
       "      <td>951.275000</td>\n",
       "      <td>0.814531</td>\n",
       "    </tr>\n",
       "  </tbody>\n",
       "</table>\n",
       "</div>"
      ],
      "text/plain": [
       "                                               Model  Epochs  \\\n",
       "0       BERT-FineTuning-Classifier-Pooler-BottleNeck       2   \n",
       "1  BERT-FineTuning-Classifier-Pooler-Unfreeze-One...      20   \n",
       "\n",
       "   Training Time (minutes)  Accuracy  \n",
       "0                39.266667  0.760000  \n",
       "1               951.275000  0.814531  "
      ]
     },
     "execution_count": 54,
     "metadata": {},
     "output_type": "execute_result"
    }
   ],
   "source": [
    "df_results_BERT_FineTuning"
   ]
  },
  {
   "cell_type": "code",
   "execution_count": 55,
   "metadata": {
    "id": "NUlHONijq5lL",
    "outputId": "f15c893f-2e8d-4d9c-a9cd-bf5d6081b5a3"
   },
   "outputs": [
    {
     "data": {
      "image/png": "[encoded data removed]",
      "text/plain": [
       "<Figure size 1000x600 with 3 Axes>"
      ]
     },
     "metadata": {},
     "output_type": "display_data"
    }
   ],
   "source": [
    "# Create a figure with three subplots: Accuracy, Training Time, Prediction Time and Epochs\n",
    "fig, ax1 = plt.subplots(figsize=(10, 6))\n",
    "\n",
    "ax1.bar(df_results_BERT_FineTuning[\"Model\"], df_results_BERT_FineTuning[\"Accuracy\"], color='b', alpha=0.7, label=\"Accuracy\")\n",
    "ax1.set_ylabel(\"Accuracy\", color='blue', fontsize=12)\n",
    "ax1.set_ylim(0.7, 0.85)\n",
    "ax1.tick_params(axis='y', labelcolor='blue')\n",
    "for i, v in enumerate(df_results_BERT_FineTuning[\"Accuracy\"]):\n",
    "    ax1.text(i, v + 0.01, f\"{v:.2f}\", ha='center', fontsize=12, color='blue')\n",
    "\n",
    "ax2 = ax1.twinx()\n",
    "ax2.plot(df_results_BERT_FineTuning[\"Model\"], df_results_BERT_FineTuning[\"Training Time (minutes)\"], color='r', marker='o',  linestyle='dashed', linewidth=2, markersize=8, label=\"Training Time (min)\")\n",
    "ax2.set_ylabel(\"Training Time (minutes)\", color='red', fontsize=12)\n",
    "ax2.tick_params(axis='y', labelcolor='red')\n",
    "for i, v in enumerate(df_results_BERT_FineTuning[\"Training Time (minutes)\"]):\n",
    "    ax2.text(i, v + 50, f\"{v:.1f}\", ha='center', fontsize=12, color='red')\n",
    "\n",
    "\n",
    "ax3 = ax1.twinx()\n",
    "ax3.spines['right'].set_position(('outward', 60))\n",
    "ax3.plot(df_results_BERT_FineTuning[\"Model\"], df_results_BERT_FineTuning[\"Epochs\"], color='g', marker='s', linestyle='dotted', linewidth=2, markersize=8, label=\"Epochs\")\n",
    "ax3.set_ylabel(\"Epochs\", color='green', fontsize=12)\n",
    "ax3.tick_params(axis='y', labelcolor='green')\n",
    "# Display epoch values on the plot\n",
    "for i, v in enumerate(df_results_BERT_FineTuning[\"Epochs\"]):\n",
    "    ax3.text(i, v + 0.5, f\"{v}\", ha='center', fontsize=12, color='green')\n",
    "\n",
    "plt.title(\"BERT Fine-Tuning Comparison: Accuracy vs Training Time vs Epochs\", fontsize=14)\n",
    "ax1.grid(axis='y', linestyle='--', alpha=0.7)\n",
    "plt.show()\n"
   ]
  },
  {
   "cell_type": "markdown",
   "metadata": {
    "id": "8on5Tn8rrbsw"
   },
   "source": [
    "**Fine-Tuning Classifier + Pooler- 2 Epochs**\n",
    "*  Training Loss: Gradually decreases.\n",
    "*  Validation Loss: Increases over time → **Possible Overfitting**.\n",
    "*  Insight: The model might have **underfitted due to limited epoch**s, leading to poor generalization.\n",
    "\n",
    "**Fine-Tuning Classifier + Pooler + One Encoder Layer - 20 Epochs**\n",
    "\n",
    "*\tTraining Loss: Significantly drops, showing effective learning.\n",
    "* Validation Loss: Initially decreases but **increases again after around 10 epochs**, suggesting **slight overfitting**.\n",
    "*\tInsight: Unfreezing one encoder layer helped learn deeper representations, leading to better performance.\n",
    "\n",
    "**Accuracy Increased: From 76% → 81.45%** (higher capacity model learned better).\n",
    "\n",
    "**Training Time Drastically Increased: 39 min → 951 min** (about 24 times longer).\n",
    "\n",
    "\n",
    "**Key Takeaways:**\n",
    "* **Fine-tuning more layers improves accuracy.**\n",
    "* Overfitting Signs in 20 Epoch Model\n",
    "* **Trade-Off: Drastically increased training time.**\n",
    " - If computational resources are limited, this may not be efficient.\n",
    "   - Stick with only fine-tuning the classifier & pooler layer (2 epochs, 76% accuracy).\n",
    "   - Try 5-10 epochs instead of full 20 to balance training time vs accuracy\n",
    "* **If Higher Accuracy is Critical:**\n",
    " - Fine-tune 1 more encoder layer with early stopping.\n",
    " - Use the 20-epoch model but apply early stopping (stop when validation loss stops improving).\n",
    " - Regularization methods (Dropout, Weight Decay, Early Stopping) can help prevent overfitting.\n",
    "* **For Further Improvement:**\n",
    " - Consider fine-tuning more encoder layers gradually, but monitor training time and overfitting.\n",
    " - Due to computertatioan source limition on my computer, currently randomly selected 10% of the whole dataset. If time and computational resource are sufficient, using a larger datasize to train the model that might help mitigate overfitting.\n",
    " - Experiment with more parameters such as learning rates, batch sizes, and optimizers to improve efficiency and regularization methods to prevent overfitting.\n"
   ]
  },
  {
   "cell_type": "markdown",
   "metadata": {
    "id": "xc9YRRtIfZj_"
   },
   "source": [
    "## 12. Results\n",
    "Report the results of all models using the evaluation procedure that you argued for at the beginning of the lab. Also compare the convergence of the models and the running time. Results should be reported with proper statistical comparisons and proper visualizations.\n",
    "\n",
    "Here add:\n",
    "\n",
    "performance - ex. eccuracy, f1 score..\n",
    "\n",
    "training time\n",
    "\n",
    "visualizations - loss curves, accuracy plots, confusion matrices\n",
    "\n",
    "statistical comparisons - t test etc."
   ]
  },
  {
   "cell_type": "markdown",
   "metadata": {},
   "source": [
    "Compare the traning time of traning bert with new datsets"
   ]
  },
  {
   "cell_type": "code",
   "execution_count": 56,
   "metadata": {},
   "outputs": [],
   "source": [
    "oldGPU_traintime_bottleneck_features = 39\n",
    "GeForce_RTX_4060_traintime_bottleneck_features = 5\n",
    "OldGPU_traintime_unfree_one_more_layer = 951\n",
    "GeForce_RTX_4060_unfree_one_more_layer = 60"
   ]
  },
  {
   "cell_type": "code",
   "execution_count": 57,
   "metadata": {},
   "outputs": [
    {
     "data": {
      "image/png": "[encoded data removed]",
      "text/plain": [
       "<Figure size 500x300 with 1 Axes>"
      ]
     },
     "metadata": {},
     "output_type": "display_data"
    },
    {
     "data": {
      "image/png": "[encoded data removed]",
      "text/plain": [
       "<Figure size 500x300 with 1 Axes>"
      ]
     },
     "metadata": {},
     "output_type": "display_data"
    }
   ],
   "source": [
    "# plot the training time for both models\n",
    "import matplotlib.pyplot as plt\n",
    "# Data for plotting\n",
    "training_times = [oldGPU_traintime_bottleneck_features, GeForce_RTX_4060_traintime_bottleneck_features]\n",
    "GPUs = ['Old GPU', 'GeForce RTX 4060']\n",
    "# Create a bar chart\n",
    "plt.figure(figsize=(5, 3))\n",
    "plt.bar(GPUs, training_times, color=['blue', 'orange'])\n",
    "plt.xlabel('GPU Model')\n",
    "plt.ylabel('Training Time (minutes)')\n",
    "plt.title('Training Time Comparison for BERT Froozen with Bottleneck Features')\n",
    "plt.xticks(rotation=45)\n",
    "plt.grid(axis='y', linestyle='--', alpha=0.7)\n",
    "plt.show()\n",
    "\n",
    "\n",
    "training_times = [OldGPU_traintime_unfree_one_more_layer, GeForce_RTX_4060_unfree_one_more_layer]\n",
    "GPUs = ['Old GPU', 'GeForce RTX 4060']\n",
    "# Create a bar chart\n",
    "plt.figure(figsize=(5, 3))\n",
    "plt.bar(GPUs, training_times, color=['blue', 'orange'])\n",
    "plt.xlabel('GPU Model')\n",
    "plt.ylabel('Training Time (minutes)')\n",
    "plt.title('Training Time Comparison for BERT - Unfreeze One More Layer')\n",
    "plt.xticks(rotation=45)\n",
    "plt.grid(axis='y', linestyle='--', alpha=0.7)\n",
    "plt.show()\n",
    "\n"
   ]
  }
 ],
 "metadata": {
  "accelerator": "GPU",
  "colab": {
   "gpuType": "T4",
   "history_visible": true,
   "machine_shape": "hm",
   "provenance": []
  },
  "kernelspec": {
   "display_name": "venv",
   "language": "python",
   "name": "python3"
  },
  "language_info": {
   "codemirror_mode": {
    "name": "ipython",
    "version": 3
   },
   "file_extension": ".py",
   "mimetype": "text/x-python",
   "name": "python",
   "nbconvert_exporter": "python",
   "pygments_lexer": "ipython3",
   "version": "3.9.13"
  },
  "widgets": {
   "application/vnd.jupyter.widget-state+json": {
    "054eca85ac4d4482b31f9b2344aeab3f": {
     "model_module": "@jupyter-widgets/controls",
     "model_module_version": "1.5.0",
     "model_name": "HBoxModel",
     "state": {
      "_dom_classes": [],
      "_model_module": "@jupyter-widgets/controls",
      "_model_module_version": "1.5.0",
      "_model_name": "HBoxModel",
      "_view_count": null,
      "_view_module": "@jupyter-widgets/controls",
      "_view_module_version": "1.5.0",
      "_view_name": "HBoxView",
      "box_style": "",
      "children": [
       "IPY_MODEL_a57ac0572240433e9c79daef2b9a2585",
       "IPY_MODEL_f2fafc87ccfd465f9d43a0fe6170c78c",
       "IPY_MODEL_1f64e21bc5d640cf97bf2a55eadbfafe"
      ],
      "layout": "IPY_MODEL_f90961f4a8cd429bb90c0fbb6ccd7f40"
     }
    },
    "071dcc73683b49a88c367cbd820bc975": {
     "model_module": "@jupyter-widgets/base",
     "model_module_version": "1.2.0",
     "model_name": "LayoutModel",
     "state": {
      "_model_module": "@jupyter-widgets/base",
      "_model_module_version": "1.2.0",
      "_model_name": "LayoutModel",
      "_view_count": null,
      "_view_module": "@jupyter-widgets/base",
      "_view_module_version": "1.2.0",
      "_view_name": "LayoutView",
      "align_content": null,
      "align_items": null,
      "align_self": null,
      "border": null,
      "bottom": null,
      "display": null,
      "flex": null,
      "flex_flow": null,
      "grid_area": null,
      "grid_auto_columns": null,
      "grid_auto_flow": null,
      "grid_auto_rows": null,
      "grid_column": null,
      "grid_gap": null,
      "grid_row": null,
      "grid_template_areas": null,
      "grid_template_columns": null,
      "grid_template_rows": null,
      "height": null,
      "justify_content": null,
      "justify_items": null,
      "left": null,
      "margin": null,
      "max_height": null,
      "max_width": null,
      "min_height": null,
      "min_width": null,
      "object_fit": null,
      "object_position": null,
      "order": null,
      "overflow": null,
      "overflow_x": null,
      "overflow_y": null,
      "padding": null,
      "right": null,
      "top": null,
      "visibility": null,
      "width": null
     }
    },
    "088987671b3342f1822640afc1bf4533": {
     "model_module": "@jupyter-widgets/base",
     "model_module_version": "1.2.0",
     "model_name": "LayoutModel",
     "state": {
      "_model_module": "@jupyter-widgets/base",
      "_model_module_version": "1.2.0",
      "_model_name": "LayoutModel",
      "_view_count": null,
      "_view_module": "@jupyter-widgets/base",
      "_view_module_version": "1.2.0",
      "_view_name": "LayoutView",
      "align_content": null,
      "align_items": null,
      "align_self": null,
      "border": null,
      "bottom": null,
      "display": null,
      "flex": null,
      "flex_flow": null,
      "grid_area": null,
      "grid_auto_columns": null,
      "grid_auto_flow": null,
      "grid_auto_rows": null,
      "grid_column": null,
      "grid_gap": null,
      "grid_row": null,
      "grid_template_areas": null,
      "grid_template_columns": null,
      "grid_template_rows": null,
      "height": null,
      "justify_content": null,
      "justify_items": null,
      "left": null,
      "margin": null,
      "max_height": null,
      "max_width": null,
      "min_height": null,
      "min_width": null,
      "object_fit": null,
      "object_position": null,
      "order": null,
      "overflow": null,
      "overflow_x": null,
      "overflow_y": null,
      "padding": null,
      "right": null,
      "top": null,
      "visibility": null,
      "width": null
     }
    },
    "159a66d5099d425682c29cb59e066b9e": {
     "model_module": "@jupyter-widgets/controls",
     "model_module_version": "1.5.0",
     "model_name": "FloatProgressModel",
     "state": {
      "_dom_classes": [],
      "_model_module": "@jupyter-widgets/controls",
      "_model_module_version": "1.5.0",
      "_model_name": "FloatProgressModel",
      "_view_count": null,
      "_view_module": "@jupyter-widgets/controls",
      "_view_module_version": "1.5.0",
      "_view_name": "ProgressView",
      "bar_style": "success",
      "description": "",
      "description_tooltip": null,
      "layout": "IPY_MODEL_fdd32bc7856d4ee6bf7f7786854a2893",
      "max": 570,
      "min": 0,
      "orientation": "horizontal",
      "style": "IPY_MODEL_daefead77eb24b5881d8deab50a54597",
      "value": 570
     }
    },
    "195d18a66637408ba31b691043bceb6d": {
     "model_module": "@jupyter-widgets/controls",
     "model_module_version": "1.5.0",
     "model_name": "ProgressStyleModel",
     "state": {
      "_model_module": "@jupyter-widgets/controls",
      "_model_module_version": "1.5.0",
      "_model_name": "ProgressStyleModel",
      "_view_count": null,
      "_view_module": "@jupyter-widgets/base",
      "_view_module_version": "1.2.0",
      "_view_name": "StyleView",
      "bar_color": null,
      "description_width": ""
     }
    },
    "19d6807cdd2a4c60b287679d6b5ee5f1": {
     "model_module": "@jupyter-widgets/controls",
     "model_module_version": "1.5.0",
     "model_name": "HTMLModel",
     "state": {
      "_dom_classes": [],
      "_model_module": "@jupyter-widgets/controls",
      "_model_module_version": "1.5.0",
      "_model_name": "HTMLModel",
      "_view_count": null,
      "_view_module": "@jupyter-widgets/controls",
      "_view_module_version": "1.5.0",
      "_view_name": "HTMLView",
      "description": "",
      "description_tooltip": null,
      "layout": "IPY_MODEL_088987671b3342f1822640afc1bf4533",
      "placeholder": "​",
      "style": "IPY_MODEL_99cdbdce8a5d418e8efff645aad29767",
      "value": "tokenizer_config.json: 100%"
     }
    },
    "1ae552c37d644b14bf6b79a056bf2482": {
     "model_module": "@jupyter-widgets/base",
     "model_module_version": "1.2.0",
     "model_name": "LayoutModel",
     "state": {
      "_model_module": "@jupyter-widgets/base",
      "_model_module_version": "1.2.0",
      "_model_name": "LayoutModel",
      "_view_count": null,
      "_view_module": "@jupyter-widgets/base",
      "_view_module_version": "1.2.0",
      "_view_name": "LayoutView",
      "align_content": null,
      "align_items": null,
      "align_self": null,
      "border": null,
      "bottom": null,
      "display": null,
      "flex": null,
      "flex_flow": null,
      "grid_area": null,
      "grid_auto_columns": null,
      "grid_auto_flow": null,
      "grid_auto_rows": null,
      "grid_column": null,
      "grid_gap": null,
      "grid_row": null,
      "grid_template_areas": null,
      "grid_template_columns": null,
      "grid_template_rows": null,
      "height": null,
      "justify_content": null,
      "justify_items": null,
      "left": null,
      "margin": null,
      "max_height": null,
      "max_width": null,
      "min_height": null,
      "min_width": null,
      "object_fit": null,
      "object_position": null,
      "order": null,
      "overflow": null,
      "overflow_x": null,
      "overflow_y": null,
      "padding": null,
      "right": null,
      "top": null,
      "visibility": null,
      "width": null
     }
    },
    "1b58e17f34614a31a314ac997870ff94": {
     "model_module": "@jupyter-widgets/base",
     "model_module_version": "1.2.0",
     "model_name": "LayoutModel",
     "state": {
      "_model_module": "@jupyter-widgets/base",
      "_model_module_version": "1.2.0",
      "_model_name": "LayoutModel",
      "_view_count": null,
      "_view_module": "@jupyter-widgets/base",
      "_view_module_version": "1.2.0",
      "_view_name": "LayoutView",
      "align_content": null,
      "align_items": null,
      "align_self": null,
      "border": null,
      "bottom": null,
      "display": null,
      "flex": null,
      "flex_flow": null,
      "grid_area": null,
      "grid_auto_columns": null,
      "grid_auto_flow": null,
      "grid_auto_rows": null,
      "grid_column": null,
      "grid_gap": null,
      "grid_row": null,
      "grid_template_areas": null,
      "grid_template_columns": null,
      "grid_template_rows": null,
      "height": null,
      "justify_content": null,
      "justify_items": null,
      "left": null,
      "margin": null,
      "max_height": null,
      "max_width": null,
      "min_height": null,
      "min_width": null,
      "object_fit": null,
      "object_position": null,
      "order": null,
      "overflow": null,
      "overflow_x": null,
      "overflow_y": null,
      "padding": null,
      "right": null,
      "top": null,
      "visibility": null,
      "width": null
     }
    },
    "1f64e21bc5d640cf97bf2a55eadbfafe": {
     "model_module": "@jupyter-widgets/controls",
     "model_module_version": "1.5.0",
     "model_name": "HTMLModel",
     "state": {
      "_dom_classes": [],
      "_model_module": "@jupyter-widgets/controls",
      "_model_module_version": "1.5.0",
      "_model_name": "HTMLModel",
      "_view_count": null,
      "_view_module": "@jupyter-widgets/controls",
      "_view_module_version": "1.5.0",
      "_view_name": "HTMLView",
      "description": "",
      "description_tooltip": null,
      "layout": "IPY_MODEL_ad269a2571ef43faaf0266a960e93d61",
      "placeholder": "​",
      "style": "IPY_MODEL_a7576f3f2f144876bb7c0bd2174507c2",
      "value": " 440M/440M [00:01&lt;00:00, 249MB/s]"
     }
    },
    "221b50b42a404d8c83cdcad44e5e34d5": {
     "model_module": "@jupyter-widgets/controls",
     "model_module_version": "1.5.0",
     "model_name": "HTMLModel",
     "state": {
      "_dom_classes": [],
      "_model_module": "@jupyter-widgets/controls",
      "_model_module_version": "1.5.0",
      "_model_name": "HTMLModel",
      "_view_count": null,
      "_view_module": "@jupyter-widgets/controls",
      "_view_module_version": "1.5.0",
      "_view_name": "HTMLView",
      "description": "",
      "description_tooltip": null,
      "layout": "IPY_MODEL_8f38d8dee94546e0ba8be201bc6198be",
      "placeholder": "​",
      "style": "IPY_MODEL_8cba5c2710dc43399045ec50f0eca0a9",
      "value": " 570/570 [00:00&lt;00:00, 67.3kB/s]"
     }
    },
    "25263141f5564d7bbe2a394cc42c046c": {
     "model_module": "@jupyter-widgets/controls",
     "model_module_version": "1.5.0",
     "model_name": "HTMLModel",
     "state": {
      "_dom_classes": [],
      "_model_module": "@jupyter-widgets/controls",
      "_model_module_version": "1.5.0",
      "_model_name": "HTMLModel",
      "_view_count": null,
      "_view_module": "@jupyter-widgets/controls",
      "_view_module_version": "1.5.0",
      "_view_name": "HTMLView",
      "description": "",
      "description_tooltip": null,
      "layout": "IPY_MODEL_cb3df98c8eb74431baa4821c8f499932",
      "placeholder": "​",
      "style": "IPY_MODEL_d64d3695a45a4e689838482c116ff377",
      "value": "config.json: 100%"
     }
    },
    "27a53ec721e84a6f9f0246bdc1868bcb": {
     "model_module": "@jupyter-widgets/controls",
     "model_module_version": "1.5.0",
     "model_name": "DescriptionStyleModel",
     "state": {
      "_model_module": "@jupyter-widgets/controls",
      "_model_module_version": "1.5.0",
      "_model_name": "DescriptionStyleModel",
      "_view_count": null,
      "_view_module": "@jupyter-widgets/base",
      "_view_module_version": "1.2.0",
      "_view_name": "StyleView",
      "description_width": ""
     }
    },
    "3240ac1ceffe494a8af2acf065c6a12f": {
     "model_module": "@jupyter-widgets/controls",
     "model_module_version": "1.5.0",
     "model_name": "HBoxModel",
     "state": {
      "_dom_classes": [],
      "_model_module": "@jupyter-widgets/controls",
      "_model_module_version": "1.5.0",
      "_model_name": "HBoxModel",
      "_view_count": null,
      "_view_module": "@jupyter-widgets/controls",
      "_view_module_version": "1.5.0",
      "_view_name": "HBoxView",
      "box_style": "",
      "children": [
       "IPY_MODEL_19d6807cdd2a4c60b287679d6b5ee5f1",
       "IPY_MODEL_49d19e210287454181bdc4c8a6765c26",
       "IPY_MODEL_e97b73ce75154516969e7d498445e993"
      ],
      "layout": "IPY_MODEL_e8e56eb40e51455997385acdb6e7db6d"
     }
    },
    "3493bb1b3b674e479099dc24f9911615": {
     "model_module": "@jupyter-widgets/controls",
     "model_module_version": "1.5.0",
     "model_name": "HTMLModel",
     "state": {
      "_dom_classes": [],
      "_model_module": "@jupyter-widgets/controls",
      "_model_module_version": "1.5.0",
      "_model_name": "HTMLModel",
      "_view_count": null,
      "_view_module": "@jupyter-widgets/controls",
      "_view_module_version": "1.5.0",
      "_view_name": "HTMLView",
      "description": "",
      "description_tooltip": null,
      "layout": "IPY_MODEL_1ae552c37d644b14bf6b79a056bf2482",
      "placeholder": "​",
      "style": "IPY_MODEL_c41e5a35b5d442c2a7ad3643d93a2702",
      "value": " 466k/466k [00:00&lt;00:00, 31.6MB/s]"
     }
    },
    "43a1e71162e34e3c9d232f363fbe9dc8": {
     "model_module": "@jupyter-widgets/controls",
     "model_module_version": "1.5.0",
     "model_name": "HBoxModel",
     "state": {
      "_dom_classes": [],
      "_model_module": "@jupyter-widgets/controls",
      "_model_module_version": "1.5.0",
      "_model_name": "HBoxModel",
      "_view_count": null,
      "_view_module": "@jupyter-widgets/controls",
      "_view_module_version": "1.5.0",
      "_view_name": "HBoxView",
      "box_style": "",
      "children": [
       "IPY_MODEL_25263141f5564d7bbe2a394cc42c046c",
       "IPY_MODEL_159a66d5099d425682c29cb59e066b9e",
       "IPY_MODEL_221b50b42a404d8c83cdcad44e5e34d5"
      ],
      "layout": "IPY_MODEL_9b6a7bba5ef342a195e1eac1975943e3"
     }
    },
    "46d51b44e8ef49dd89eefce584600111": {
     "model_module": "@jupyter-widgets/base",
     "model_module_version": "1.2.0",
     "model_name": "LayoutModel",
     "state": {
      "_model_module": "@jupyter-widgets/base",
      "_model_module_version": "1.2.0",
      "_model_name": "LayoutModel",
      "_view_count": null,
      "_view_module": "@jupyter-widgets/base",
      "_view_module_version": "1.2.0",
      "_view_name": "LayoutView",
      "align_content": null,
      "align_items": null,
      "align_self": null,
      "border": null,
      "bottom": null,
      "display": null,
      "flex": null,
      "flex_flow": null,
      "grid_area": null,
      "grid_auto_columns": null,
      "grid_auto_flow": null,
      "grid_auto_rows": null,
      "grid_column": null,
      "grid_gap": null,
      "grid_row": null,
      "grid_template_areas": null,
      "grid_template_columns": null,
      "grid_template_rows": null,
      "height": null,
      "justify_content": null,
      "justify_items": null,
      "left": null,
      "margin": null,
      "max_height": null,
      "max_width": null,
      "min_height": null,
      "min_width": null,
      "object_fit": null,
      "object_position": null,
      "order": null,
      "overflow": null,
      "overflow_x": null,
      "overflow_y": null,
      "padding": null,
      "right": null,
      "top": null,
      "visibility": null,
      "width": null
     }
    },
    "4787c11658894044a6a967aca6daf7c3": {
     "model_module": "@jupyter-widgets/controls",
     "model_module_version": "1.5.0",
     "model_name": "FloatProgressModel",
     "state": {
      "_dom_classes": [],
      "_model_module": "@jupyter-widgets/controls",
      "_model_module_version": "1.5.0",
      "_model_name": "FloatProgressModel",
      "_view_count": null,
      "_view_module": "@jupyter-widgets/controls",
      "_view_module_version": "1.5.0",
      "_view_name": "ProgressView",
      "bar_style": "success",
      "description": "",
      "description_tooltip": null,
      "layout": "IPY_MODEL_769738b32ccf4c859394fec0f668a893",
      "max": 231508,
      "min": 0,
      "orientation": "horizontal",
      "style": "IPY_MODEL_195d18a66637408ba31b691043bceb6d",
      "value": 231508
     }
    },
    "49d19e210287454181bdc4c8a6765c26": {
     "model_module": "@jupyter-widgets/controls",
     "model_module_version": "1.5.0",
     "model_name": "FloatProgressModel",
     "state": {
      "_dom_classes": [],
      "_model_module": "@jupyter-widgets/controls",
      "_model_module_version": "1.5.0",
      "_model_name": "FloatProgressModel",
      "_view_count": null,
      "_view_module": "@jupyter-widgets/controls",
      "_view_module_version": "1.5.0",
      "_view_name": "ProgressView",
      "bar_style": "success",
      "description": "",
      "description_tooltip": null,
      "layout": "IPY_MODEL_5c1a28b29d0941e0bbe89c1abe658102",
      "max": 48,
      "min": 0,
      "orientation": "horizontal",
      "style": "IPY_MODEL_ffc270e0876d419897091f1093a878a0",
      "value": 48
     }
    },
    "4d314dcc08e04e009881cb64f0323e87": {
     "model_module": "@jupyter-widgets/base",
     "model_module_version": "1.2.0",
     "model_name": "LayoutModel",
     "state": {
      "_model_module": "@jupyter-widgets/base",
      "_model_module_version": "1.2.0",
      "_model_name": "LayoutModel",
      "_view_count": null,
      "_view_module": "@jupyter-widgets/base",
      "_view_module_version": "1.2.0",
      "_view_name": "LayoutView",
      "align_content": null,
      "align_items": null,
      "align_self": null,
      "border": null,
      "bottom": null,
      "display": null,
      "flex": null,
      "flex_flow": null,
      "grid_area": null,
      "grid_auto_columns": null,
      "grid_auto_flow": null,
      "grid_auto_rows": null,
      "grid_column": null,
      "grid_gap": null,
      "grid_row": null,
      "grid_template_areas": null,
      "grid_template_columns": null,
      "grid_template_rows": null,
      "height": null,
      "justify_content": null,
      "justify_items": null,
      "left": null,
      "margin": null,
      "max_height": null,
      "max_width": null,
      "min_height": null,
      "min_width": null,
      "object_fit": null,
      "object_position": null,
      "order": null,
      "overflow": null,
      "overflow_x": null,
      "overflow_y": null,
      "padding": null,
      "right": null,
      "top": null,
      "visibility": null,
      "width": null
     }
    },
    "56024cbc585d4d57a0f53f2409837caa": {
     "model_module": "@jupyter-widgets/base",
     "model_module_version": "1.2.0",
     "model_name": "LayoutModel",
     "state": {
      "_model_module": "@jupyter-widgets/base",
      "_model_module_version": "1.2.0",
      "_model_name": "LayoutModel",
      "_view_count": null,
      "_view_module": "@jupyter-widgets/base",
      "_view_module_version": "1.2.0",
      "_view_name": "LayoutView",
      "align_content": null,
      "align_items": null,
      "align_self": null,
      "border": null,
      "bottom": null,
      "display": null,
      "flex": null,
      "flex_flow": null,
      "grid_area": null,
      "grid_auto_columns": null,
      "grid_auto_flow": null,
      "grid_auto_rows": null,
      "grid_column": null,
      "grid_gap": null,
      "grid_row": null,
      "grid_template_areas": null,
      "grid_template_columns": null,
      "grid_template_rows": null,
      "height": null,
      "justify_content": null,
      "justify_items": null,
      "left": null,
      "margin": null,
      "max_height": null,
      "max_width": null,
      "min_height": null,
      "min_width": null,
      "object_fit": null,
      "object_position": null,
      "order": null,
      "overflow": null,
      "overflow_x": null,
      "overflow_y": null,
      "padding": null,
      "right": null,
      "top": null,
      "visibility": null,
      "width": null
     }
    },
    "57e337189a7f411d8fe67d1023565f8d": {
     "model_module": "@jupyter-widgets/controls",
     "model_module_version": "1.5.0",
     "model_name": "DescriptionStyleModel",
     "state": {
      "_model_module": "@jupyter-widgets/controls",
      "_model_module_version": "1.5.0",
      "_model_name": "DescriptionStyleModel",
      "_view_count": null,
      "_view_module": "@jupyter-widgets/base",
      "_view_module_version": "1.2.0",
      "_view_name": "StyleView",
      "description_width": ""
     }
    },
    "582d47cc5d0c49708dcc1da559a20a80": {
     "model_module": "@jupyter-widgets/controls",
     "model_module_version": "1.5.0",
     "model_name": "DescriptionStyleModel",
     "state": {
      "_model_module": "@jupyter-widgets/controls",
      "_model_module_version": "1.5.0",
      "_model_name": "DescriptionStyleModel",
      "_view_count": null,
      "_view_module": "@jupyter-widgets/base",
      "_view_module_version": "1.2.0",
      "_view_name": "StyleView",
      "description_width": ""
     }
    },
    "5c1a28b29d0941e0bbe89c1abe658102": {
     "model_module": "@jupyter-widgets/base",
     "model_module_version": "1.2.0",
     "model_name": "LayoutModel",
     "state": {
      "_model_module": "@jupyter-widgets/base",
      "_model_module_version": "1.2.0",
      "_model_name": "LayoutModel",
      "_view_count": null,
      "_view_module": "@jupyter-widgets/base",
      "_view_module_version": "1.2.0",
      "_view_name": "LayoutView",
      "align_content": null,
      "align_items": null,
      "align_self": null,
      "border": null,
      "bottom": null,
      "display": null,
      "flex": null,
      "flex_flow": null,
      "grid_area": null,
      "grid_auto_columns": null,
      "grid_auto_flow": null,
      "grid_auto_rows": null,
      "grid_column": null,
      "grid_gap": null,
      "grid_row": null,
      "grid_template_areas": null,
      "grid_template_columns": null,
      "grid_template_rows": null,
      "height": null,
      "justify_content": null,
      "justify_items": null,
      "left": null,
      "margin": null,
      "max_height": null,
      "max_width": null,
      "min_height": null,
      "min_width": null,
      "object_fit": null,
      "object_position": null,
      "order": null,
      "overflow": null,
      "overflow_x": null,
      "overflow_y": null,
      "padding": null,
      "right": null,
      "top": null,
      "visibility": null,
      "width": null
     }
    },
    "6375e4687cd04494b99473376fe57647": {
     "model_module": "@jupyter-widgets/base",
     "model_module_version": "1.2.0",
     "model_name": "LayoutModel",
     "state": {
      "_model_module": "@jupyter-widgets/base",
      "_model_module_version": "1.2.0",
      "_model_name": "LayoutModel",
      "_view_count": null,
      "_view_module": "@jupyter-widgets/base",
      "_view_module_version": "1.2.0",
      "_view_name": "LayoutView",
      "align_content": null,
      "align_items": null,
      "align_self": null,
      "border": null,
      "bottom": null,
      "display": null,
      "flex": null,
      "flex_flow": null,
      "grid_area": null,
      "grid_auto_columns": null,
      "grid_auto_flow": null,
      "grid_auto_rows": null,
      "grid_column": null,
      "grid_gap": null,
      "grid_row": null,
      "grid_template_areas": null,
      "grid_template_columns": null,
      "grid_template_rows": null,
      "height": null,
      "justify_content": null,
      "justify_items": null,
      "left": null,
      "margin": null,
      "max_height": null,
      "max_width": null,
      "min_height": null,
      "min_width": null,
      "object_fit": null,
      "object_position": null,
      "order": null,
      "overflow": null,
      "overflow_x": null,
      "overflow_y": null,
      "padding": null,
      "right": null,
      "top": null,
      "visibility": null,
      "width": null
     }
    },
    "75025378190f47dd816047aaf6008d28": {
     "model_module": "@jupyter-widgets/controls",
     "model_module_version": "1.5.0",
     "model_name": "ProgressStyleModel",
     "state": {
      "_model_module": "@jupyter-widgets/controls",
      "_model_module_version": "1.5.0",
      "_model_name": "ProgressStyleModel",
      "_view_count": null,
      "_view_module": "@jupyter-widgets/base",
      "_view_module_version": "1.2.0",
      "_view_name": "StyleView",
      "bar_color": null,
      "description_width": ""
     }
    },
    "769738b32ccf4c859394fec0f668a893": {
     "model_module": "@jupyter-widgets/base",
     "model_module_version": "1.2.0",
     "model_name": "LayoutModel",
     "state": {
      "_model_module": "@jupyter-widgets/base",
      "_model_module_version": "1.2.0",
      "_model_name": "LayoutModel",
      "_view_count": null,
      "_view_module": "@jupyter-widgets/base",
      "_view_module_version": "1.2.0",
      "_view_name": "LayoutView",
      "align_content": null,
      "align_items": null,
      "align_self": null,
      "border": null,
      "bottom": null,
      "display": null,
      "flex": null,
      "flex_flow": null,
      "grid_area": null,
      "grid_auto_columns": null,
      "grid_auto_flow": null,
      "grid_auto_rows": null,
      "grid_column": null,
      "grid_gap": null,
      "grid_row": null,
      "grid_template_areas": null,
      "grid_template_columns": null,
      "grid_template_rows": null,
      "height": null,
      "justify_content": null,
      "justify_items": null,
      "left": null,
      "margin": null,
      "max_height": null,
      "max_width": null,
      "min_height": null,
      "min_width": null,
      "object_fit": null,
      "object_position": null,
      "order": null,
      "overflow": null,
      "overflow_x": null,
      "overflow_y": null,
      "padding": null,
      "right": null,
      "top": null,
      "visibility": null,
      "width": null
     }
    },
    "86b51bfef4ee449a94aa11ff7cc9efc5": {
     "model_module": "@jupyter-widgets/controls",
     "model_module_version": "1.5.0",
     "model_name": "HTMLModel",
     "state": {
      "_dom_classes": [],
      "_model_module": "@jupyter-widgets/controls",
      "_model_module_version": "1.5.0",
      "_model_name": "HTMLModel",
      "_view_count": null,
      "_view_module": "@jupyter-widgets/controls",
      "_view_module_version": "1.5.0",
      "_view_name": "HTMLView",
      "description": "",
      "description_tooltip": null,
      "layout": "IPY_MODEL_8e7f8975ba52433daf0b17cca3fb3843",
      "placeholder": "​",
      "style": "IPY_MODEL_95c2ae44310f48be8d1f9bb50be01f28",
      "value": "vocab.txt: 100%"
     }
    },
    "8bae95b93db8491d88bf837983ff07a4": {
     "model_module": "@jupyter-widgets/controls",
     "model_module_version": "1.5.0",
     "model_name": "HTMLModel",
     "state": {
      "_dom_classes": [],
      "_model_module": "@jupyter-widgets/controls",
      "_model_module_version": "1.5.0",
      "_model_name": "HTMLModel",
      "_view_count": null,
      "_view_module": "@jupyter-widgets/controls",
      "_view_module_version": "1.5.0",
      "_view_name": "HTMLView",
      "description": "",
      "description_tooltip": null,
      "layout": "IPY_MODEL_46d51b44e8ef49dd89eefce584600111",
      "placeholder": "​",
      "style": "IPY_MODEL_57e337189a7f411d8fe67d1023565f8d",
      "value": " 232k/232k [00:00&lt;00:00, 14.3MB/s]"
     }
    },
    "8cba5c2710dc43399045ec50f0eca0a9": {
     "model_module": "@jupyter-widgets/controls",
     "model_module_version": "1.5.0",
     "model_name": "DescriptionStyleModel",
     "state": {
      "_model_module": "@jupyter-widgets/controls",
      "_model_module_version": "1.5.0",
      "_model_name": "DescriptionStyleModel",
      "_view_count": null,
      "_view_module": "@jupyter-widgets/base",
      "_view_module_version": "1.2.0",
      "_view_name": "StyleView",
      "description_width": ""
     }
    },
    "8e7f8975ba52433daf0b17cca3fb3843": {
     "model_module": "@jupyter-widgets/base",
     "model_module_version": "1.2.0",
     "model_name": "LayoutModel",
     "state": {
      "_model_module": "@jupyter-widgets/base",
      "_model_module_version": "1.2.0",
      "_model_name": "LayoutModel",
      "_view_count": null,
      "_view_module": "@jupyter-widgets/base",
      "_view_module_version": "1.2.0",
      "_view_name": "LayoutView",
      "align_content": null,
      "align_items": null,
      "align_self": null,
      "border": null,
      "bottom": null,
      "display": null,
      "flex": null,
      "flex_flow": null,
      "grid_area": null,
      "grid_auto_columns": null,
      "grid_auto_flow": null,
      "grid_auto_rows": null,
      "grid_column": null,
      "grid_gap": null,
      "grid_row": null,
      "grid_template_areas": null,
      "grid_template_columns": null,
      "grid_template_rows": null,
      "height": null,
      "justify_content": null,
      "justify_items": null,
      "left": null,
      "margin": null,
      "max_height": null,
      "max_width": null,
      "min_height": null,
      "min_width": null,
      "object_fit": null,
      "object_position": null,
      "order": null,
      "overflow": null,
      "overflow_x": null,
      "overflow_y": null,
      "padding": null,
      "right": null,
      "top": null,
      "visibility": null,
      "width": null
     }
    },
    "8f38d8dee94546e0ba8be201bc6198be": {
     "model_module": "@jupyter-widgets/base",
     "model_module_version": "1.2.0",
     "model_name": "LayoutModel",
     "state": {
      "_model_module": "@jupyter-widgets/base",
      "_model_module_version": "1.2.0",
      "_model_name": "LayoutModel",
      "_view_count": null,
      "_view_module": "@jupyter-widgets/base",
      "_view_module_version": "1.2.0",
      "_view_name": "LayoutView",
      "align_content": null,
      "align_items": null,
      "align_self": null,
      "border": null,
      "bottom": null,
      "display": null,
      "flex": null,
      "flex_flow": null,
      "grid_area": null,
      "grid_auto_columns": null,
      "grid_auto_flow": null,
      "grid_auto_rows": null,
      "grid_column": null,
      "grid_gap": null,
      "grid_row": null,
      "grid_template_areas": null,
      "grid_template_columns": null,
      "grid_template_rows": null,
      "height": null,
      "justify_content": null,
      "justify_items": null,
      "left": null,
      "margin": null,
      "max_height": null,
      "max_width": null,
      "min_height": null,
      "min_width": null,
      "object_fit": null,
      "object_position": null,
      "order": null,
      "overflow": null,
      "overflow_x": null,
      "overflow_y": null,
      "padding": null,
      "right": null,
      "top": null,
      "visibility": null,
      "width": null
     }
    },
    "95c2ae44310f48be8d1f9bb50be01f28": {
     "model_module": "@jupyter-widgets/controls",
     "model_module_version": "1.5.0",
     "model_name": "DescriptionStyleModel",
     "state": {
      "_model_module": "@jupyter-widgets/controls",
      "_model_module_version": "1.5.0",
      "_model_name": "DescriptionStyleModel",
      "_view_count": null,
      "_view_module": "@jupyter-widgets/base",
      "_view_module_version": "1.2.0",
      "_view_name": "StyleView",
      "description_width": ""
     }
    },
    "979ceeecf05345d9bcf4a9ea72203de1": {
     "model_module": "@jupyter-widgets/base",
     "model_module_version": "1.2.0",
     "model_name": "LayoutModel",
     "state": {
      "_model_module": "@jupyter-widgets/base",
      "_model_module_version": "1.2.0",
      "_model_name": "LayoutModel",
      "_view_count": null,
      "_view_module": "@jupyter-widgets/base",
      "_view_module_version": "1.2.0",
      "_view_name": "LayoutView",
      "align_content": null,
      "align_items": null,
      "align_self": null,
      "border": null,
      "bottom": null,
      "display": null,
      "flex": null,
      "flex_flow": null,
      "grid_area": null,
      "grid_auto_columns": null,
      "grid_auto_flow": null,
      "grid_auto_rows": null,
      "grid_column": null,
      "grid_gap": null,
      "grid_row": null,
      "grid_template_areas": null,
      "grid_template_columns": null,
      "grid_template_rows": null,
      "height": null,
      "justify_content": null,
      "justify_items": null,
      "left": null,
      "margin": null,
      "max_height": null,
      "max_width": null,
      "min_height": null,
      "min_width": null,
      "object_fit": null,
      "object_position": null,
      "order": null,
      "overflow": null,
      "overflow_x": null,
      "overflow_y": null,
      "padding": null,
      "right": null,
      "top": null,
      "visibility": null,
      "width": null
     }
    },
    "99cdbdce8a5d418e8efff645aad29767": {
     "model_module": "@jupyter-widgets/controls",
     "model_module_version": "1.5.0",
     "model_name": "DescriptionStyleModel",
     "state": {
      "_model_module": "@jupyter-widgets/controls",
      "_model_module_version": "1.5.0",
      "_model_name": "DescriptionStyleModel",
      "_view_count": null,
      "_view_module": "@jupyter-widgets/base",
      "_view_module_version": "1.2.0",
      "_view_name": "StyleView",
      "description_width": ""
     }
    },
    "9b6a7bba5ef342a195e1eac1975943e3": {
     "model_module": "@jupyter-widgets/base",
     "model_module_version": "1.2.0",
     "model_name": "LayoutModel",
     "state": {
      "_model_module": "@jupyter-widgets/base",
      "_model_module_version": "1.2.0",
      "_model_name": "LayoutModel",
      "_view_count": null,
      "_view_module": "@jupyter-widgets/base",
      "_view_module_version": "1.2.0",
      "_view_name": "LayoutView",
      "align_content": null,
      "align_items": null,
      "align_self": null,
      "border": null,
      "bottom": null,
      "display": null,
      "flex": null,
      "flex_flow": null,
      "grid_area": null,
      "grid_auto_columns": null,
      "grid_auto_flow": null,
      "grid_auto_rows": null,
      "grid_column": null,
      "grid_gap": null,
      "grid_row": null,
      "grid_template_areas": null,
      "grid_template_columns": null,
      "grid_template_rows": null,
      "height": null,
      "justify_content": null,
      "justify_items": null,
      "left": null,
      "margin": null,
      "max_height": null,
      "max_width": null,
      "min_height": null,
      "min_width": null,
      "object_fit": null,
      "object_position": null,
      "order": null,
      "overflow": null,
      "overflow_x": null,
      "overflow_y": null,
      "padding": null,
      "right": null,
      "top": null,
      "visibility": null,
      "width": null
     }
    },
    "9dfc23e31ee94f82a210ef3fd5e4d4c7": {
     "model_module": "@jupyter-widgets/controls",
     "model_module_version": "1.5.0",
     "model_name": "HBoxModel",
     "state": {
      "_dom_classes": [],
      "_model_module": "@jupyter-widgets/controls",
      "_model_module_version": "1.5.0",
      "_model_name": "HBoxModel",
      "_view_count": null,
      "_view_module": "@jupyter-widgets/controls",
      "_view_module_version": "1.5.0",
      "_view_name": "HBoxView",
      "box_style": "",
      "children": [
       "IPY_MODEL_86b51bfef4ee449a94aa11ff7cc9efc5",
       "IPY_MODEL_4787c11658894044a6a967aca6daf7c3",
       "IPY_MODEL_8bae95b93db8491d88bf837983ff07a4"
      ],
      "layout": "IPY_MODEL_979ceeecf05345d9bcf4a9ea72203de1"
     }
    },
    "a57ac0572240433e9c79daef2b9a2585": {
     "model_module": "@jupyter-widgets/controls",
     "model_module_version": "1.5.0",
     "model_name": "HTMLModel",
     "state": {
      "_dom_classes": [],
      "_model_module": "@jupyter-widgets/controls",
      "_model_module_version": "1.5.0",
      "_model_name": "HTMLModel",
      "_view_count": null,
      "_view_module": "@jupyter-widgets/controls",
      "_view_module_version": "1.5.0",
      "_view_name": "HTMLView",
      "description": "",
      "description_tooltip": null,
      "layout": "IPY_MODEL_1b58e17f34614a31a314ac997870ff94",
      "placeholder": "​",
      "style": "IPY_MODEL_a6544a3465d4475cafa03e642013a031",
      "value": "model.safetensors: 100%"
     }
    },
    "a6544a3465d4475cafa03e642013a031": {
     "model_module": "@jupyter-widgets/controls",
     "model_module_version": "1.5.0",
     "model_name": "DescriptionStyleModel",
     "state": {
      "_model_module": "@jupyter-widgets/controls",
      "_model_module_version": "1.5.0",
      "_model_name": "DescriptionStyleModel",
      "_view_count": null,
      "_view_module": "@jupyter-widgets/base",
      "_view_module_version": "1.2.0",
      "_view_name": "StyleView",
      "description_width": ""
     }
    },
    "a7576f3f2f144876bb7c0bd2174507c2": {
     "model_module": "@jupyter-widgets/controls",
     "model_module_version": "1.5.0",
     "model_name": "DescriptionStyleModel",
     "state": {
      "_model_module": "@jupyter-widgets/controls",
      "_model_module_version": "1.5.0",
      "_model_name": "DescriptionStyleModel",
      "_view_count": null,
      "_view_module": "@jupyter-widgets/base",
      "_view_module_version": "1.2.0",
      "_view_name": "StyleView",
      "description_width": ""
     }
    },
    "ad269a2571ef43faaf0266a960e93d61": {
     "model_module": "@jupyter-widgets/base",
     "model_module_version": "1.2.0",
     "model_name": "LayoutModel",
     "state": {
      "_model_module": "@jupyter-widgets/base",
      "_model_module_version": "1.2.0",
      "_model_name": "LayoutModel",
      "_view_count": null,
      "_view_module": "@jupyter-widgets/base",
      "_view_module_version": "1.2.0",
      "_view_name": "LayoutView",
      "align_content": null,
      "align_items": null,
      "align_self": null,
      "border": null,
      "bottom": null,
      "display": null,
      "flex": null,
      "flex_flow": null,
      "grid_area": null,
      "grid_auto_columns": null,
      "grid_auto_flow": null,
      "grid_auto_rows": null,
      "grid_column": null,
      "grid_gap": null,
      "grid_row": null,
      "grid_template_areas": null,
      "grid_template_columns": null,
      "grid_template_rows": null,
      "height": null,
      "justify_content": null,
      "justify_items": null,
      "left": null,
      "margin": null,
      "max_height": null,
      "max_width": null,
      "min_height": null,
      "min_width": null,
      "object_fit": null,
      "object_position": null,
      "order": null,
      "overflow": null,
      "overflow_x": null,
      "overflow_y": null,
      "padding": null,
      "right": null,
      "top": null,
      "visibility": null,
      "width": null
     }
    },
    "b86deceb68694ff98c7c54b453370e01": {
     "model_module": "@jupyter-widgets/controls",
     "model_module_version": "1.5.0",
     "model_name": "HBoxModel",
     "state": {
      "_dom_classes": [],
      "_model_module": "@jupyter-widgets/controls",
      "_model_module_version": "1.5.0",
      "_model_name": "HBoxModel",
      "_view_count": null,
      "_view_module": "@jupyter-widgets/controls",
      "_view_module_version": "1.5.0",
      "_view_name": "HBoxView",
      "box_style": "",
      "children": [
       "IPY_MODEL_b8dbf2517510447da98bcc4b7d259ac5",
       "IPY_MODEL_fdda18894fea4cf5b72e4811976af498",
       "IPY_MODEL_3493bb1b3b674e479099dc24f9911615"
      ],
      "layout": "IPY_MODEL_56024cbc585d4d57a0f53f2409837caa"
     }
    },
    "b8dbf2517510447da98bcc4b7d259ac5": {
     "model_module": "@jupyter-widgets/controls",
     "model_module_version": "1.5.0",
     "model_name": "HTMLModel",
     "state": {
      "_dom_classes": [],
      "_model_module": "@jupyter-widgets/controls",
      "_model_module_version": "1.5.0",
      "_model_name": "HTMLModel",
      "_view_count": null,
      "_view_module": "@jupyter-widgets/controls",
      "_view_module_version": "1.5.0",
      "_view_name": "HTMLView",
      "description": "",
      "description_tooltip": null,
      "layout": "IPY_MODEL_f9afe9762f314d0d8eb025568e6d9de0",
      "placeholder": "​",
      "style": "IPY_MODEL_582d47cc5d0c49708dcc1da559a20a80",
      "value": "tokenizer.json: 100%"
     }
    },
    "c41e5a35b5d442c2a7ad3643d93a2702": {
     "model_module": "@jupyter-widgets/controls",
     "model_module_version": "1.5.0",
     "model_name": "DescriptionStyleModel",
     "state": {
      "_model_module": "@jupyter-widgets/controls",
      "_model_module_version": "1.5.0",
      "_model_name": "DescriptionStyleModel",
      "_view_count": null,
      "_view_module": "@jupyter-widgets/base",
      "_view_module_version": "1.2.0",
      "_view_name": "StyleView",
      "description_width": ""
     }
    },
    "cb3df98c8eb74431baa4821c8f499932": {
     "model_module": "@jupyter-widgets/base",
     "model_module_version": "1.2.0",
     "model_name": "LayoutModel",
     "state": {
      "_model_module": "@jupyter-widgets/base",
      "_model_module_version": "1.2.0",
      "_model_name": "LayoutModel",
      "_view_count": null,
      "_view_module": "@jupyter-widgets/base",
      "_view_module_version": "1.2.0",
      "_view_name": "LayoutView",
      "align_content": null,
      "align_items": null,
      "align_self": null,
      "border": null,
      "bottom": null,
      "display": null,
      "flex": null,
      "flex_flow": null,
      "grid_area": null,
      "grid_auto_columns": null,
      "grid_auto_flow": null,
      "grid_auto_rows": null,
      "grid_column": null,
      "grid_gap": null,
      "grid_row": null,
      "grid_template_areas": null,
      "grid_template_columns": null,
      "grid_template_rows": null,
      "height": null,
      "justify_content": null,
      "justify_items": null,
      "left": null,
      "margin": null,
      "max_height": null,
      "max_width": null,
      "min_height": null,
      "min_width": null,
      "object_fit": null,
      "object_position": null,
      "order": null,
      "overflow": null,
      "overflow_x": null,
      "overflow_y": null,
      "padding": null,
      "right": null,
      "top": null,
      "visibility": null,
      "width": null
     }
    },
    "d457b0401dda457e92f931b8e2f7cea0": {
     "model_module": "@jupyter-widgets/controls",
     "model_module_version": "1.5.0",
     "model_name": "ProgressStyleModel",
     "state": {
      "_model_module": "@jupyter-widgets/controls",
      "_model_module_version": "1.5.0",
      "_model_name": "ProgressStyleModel",
      "_view_count": null,
      "_view_module": "@jupyter-widgets/base",
      "_view_module_version": "1.2.0",
      "_view_name": "StyleView",
      "bar_color": null,
      "description_width": ""
     }
    },
    "d64d3695a45a4e689838482c116ff377": {
     "model_module": "@jupyter-widgets/controls",
     "model_module_version": "1.5.0",
     "model_name": "DescriptionStyleModel",
     "state": {
      "_model_module": "@jupyter-widgets/controls",
      "_model_module_version": "1.5.0",
      "_model_name": "DescriptionStyleModel",
      "_view_count": null,
      "_view_module": "@jupyter-widgets/base",
      "_view_module_version": "1.2.0",
      "_view_name": "StyleView",
      "description_width": ""
     }
    },
    "daefead77eb24b5881d8deab50a54597": {
     "model_module": "@jupyter-widgets/controls",
     "model_module_version": "1.5.0",
     "model_name": "ProgressStyleModel",
     "state": {
      "_model_module": "@jupyter-widgets/controls",
      "_model_module_version": "1.5.0",
      "_model_name": "ProgressStyleModel",
      "_view_count": null,
      "_view_module": "@jupyter-widgets/base",
      "_view_module_version": "1.2.0",
      "_view_name": "StyleView",
      "bar_color": null,
      "description_width": ""
     }
    },
    "e8e56eb40e51455997385acdb6e7db6d": {
     "model_module": "@jupyter-widgets/base",
     "model_module_version": "1.2.0",
     "model_name": "LayoutModel",
     "state": {
      "_model_module": "@jupyter-widgets/base",
      "_model_module_version": "1.2.0",
      "_model_name": "LayoutModel",
      "_view_count": null,
      "_view_module": "@jupyter-widgets/base",
      "_view_module_version": "1.2.0",
      "_view_name": "LayoutView",
      "align_content": null,
      "align_items": null,
      "align_self": null,
      "border": null,
      "bottom": null,
      "display": null,
      "flex": null,
      "flex_flow": null,
      "grid_area": null,
      "grid_auto_columns": null,
      "grid_auto_flow": null,
      "grid_auto_rows": null,
      "grid_column": null,
      "grid_gap": null,
      "grid_row": null,
      "grid_template_areas": null,
      "grid_template_columns": null,
      "grid_template_rows": null,
      "height": null,
      "justify_content": null,
      "justify_items": null,
      "left": null,
      "margin": null,
      "max_height": null,
      "max_width": null,
      "min_height": null,
      "min_width": null,
      "object_fit": null,
      "object_position": null,
      "order": null,
      "overflow": null,
      "overflow_x": null,
      "overflow_y": null,
      "padding": null,
      "right": null,
      "top": null,
      "visibility": null,
      "width": null
     }
    },
    "e97b73ce75154516969e7d498445e993": {
     "model_module": "@jupyter-widgets/controls",
     "model_module_version": "1.5.0",
     "model_name": "HTMLModel",
     "state": {
      "_dom_classes": [],
      "_model_module": "@jupyter-widgets/controls",
      "_model_module_version": "1.5.0",
      "_model_name": "HTMLModel",
      "_view_count": null,
      "_view_module": "@jupyter-widgets/controls",
      "_view_module_version": "1.5.0",
      "_view_name": "HTMLView",
      "description": "",
      "description_tooltip": null,
      "layout": "IPY_MODEL_4d314dcc08e04e009881cb64f0323e87",
      "placeholder": "​",
      "style": "IPY_MODEL_27a53ec721e84a6f9f0246bdc1868bcb",
      "value": " 48.0/48.0 [00:00&lt;00:00, 6.10kB/s]"
     }
    },
    "f2fafc87ccfd465f9d43a0fe6170c78c": {
     "model_module": "@jupyter-widgets/controls",
     "model_module_version": "1.5.0",
     "model_name": "FloatProgressModel",
     "state": {
      "_dom_classes": [],
      "_model_module": "@jupyter-widgets/controls",
      "_model_module_version": "1.5.0",
      "_model_name": "FloatProgressModel",
      "_view_count": null,
      "_view_module": "@jupyter-widgets/controls",
      "_view_module_version": "1.5.0",
      "_view_name": "ProgressView",
      "bar_style": "success",
      "description": "",
      "description_tooltip": null,
      "layout": "IPY_MODEL_6375e4687cd04494b99473376fe57647",
      "max": 440449768,
      "min": 0,
      "orientation": "horizontal",
      "style": "IPY_MODEL_75025378190f47dd816047aaf6008d28",
      "value": 440449768
     }
    },
    "f90961f4a8cd429bb90c0fbb6ccd7f40": {
     "model_module": "@jupyter-widgets/base",
     "model_module_version": "1.2.0",
     "model_name": "LayoutModel",
     "state": {
      "_model_module": "@jupyter-widgets/base",
      "_model_module_version": "1.2.0",
      "_model_name": "LayoutModel",
      "_view_count": null,
      "_view_module": "@jupyter-widgets/base",
      "_view_module_version": "1.2.0",
      "_view_name": "LayoutView",
      "align_content": null,
      "align_items": null,
      "align_self": null,
      "border": null,
      "bottom": null,
      "display": null,
      "flex": null,
      "flex_flow": null,
      "grid_area": null,
      "grid_auto_columns": null,
      "grid_auto_flow": null,
      "grid_auto_rows": null,
      "grid_column": null,
      "grid_gap": null,
      "grid_row": null,
      "grid_template_areas": null,
      "grid_template_columns": null,
      "grid_template_rows": null,
      "height": null,
      "justify_content": null,
      "justify_items": null,
      "left": null,
      "margin": null,
      "max_height": null,
      "max_width": null,
      "min_height": null,
      "min_width": null,
      "object_fit": null,
      "object_position": null,
      "order": null,
      "overflow": null,
      "overflow_x": null,
      "overflow_y": null,
      "padding": null,
      "right": null,
      "top": null,
      "visibility": null,
      "width": null
     }
    },
    "f9afe9762f314d0d8eb025568e6d9de0": {
     "model_module": "@jupyter-widgets/base",
     "model_module_version": "1.2.0",
     "model_name": "LayoutModel",
     "state": {
      "_model_module": "@jupyter-widgets/base",
      "_model_module_version": "1.2.0",
      "_model_name": "LayoutModel",
      "_view_count": null,
      "_view_module": "@jupyter-widgets/base",
      "_view_module_version": "1.2.0",
      "_view_name": "LayoutView",
      "align_content": null,
      "align_items": null,
      "align_self": null,
      "border": null,
      "bottom": null,
      "display": null,
      "flex": null,
      "flex_flow": null,
      "grid_area": null,
      "grid_auto_columns": null,
      "grid_auto_flow": null,
      "grid_auto_rows": null,
      "grid_column": null,
      "grid_gap": null,
      "grid_row": null,
      "grid_template_areas": null,
      "grid_template_columns": null,
      "grid_template_rows": null,
      "height": null,
      "justify_content": null,
      "justify_items": null,
      "left": null,
      "margin": null,
      "max_height": null,
      "max_width": null,
      "min_height": null,
      "min_width": null,
      "object_fit": null,
      "object_position": null,
      "order": null,
      "overflow": null,
      "overflow_x": null,
      "overflow_y": null,
      "padding": null,
      "right": null,
      "top": null,
      "visibility": null,
      "width": null
     }
    },
    "fdd32bc7856d4ee6bf7f7786854a2893": {
     "model_module": "@jupyter-widgets/base",
     "model_module_version": "1.2.0",
     "model_name": "LayoutModel",
     "state": {
      "_model_module": "@jupyter-widgets/base",
      "_model_module_version": "1.2.0",
      "_model_name": "LayoutModel",
      "_view_count": null,
      "_view_module": "@jupyter-widgets/base",
      "_view_module_version": "1.2.0",
      "_view_name": "LayoutView",
      "align_content": null,
      "align_items": null,
      "align_self": null,
      "border": null,
      "bottom": null,
      "display": null,
      "flex": null,
      "flex_flow": null,
      "grid_area": null,
      "grid_auto_columns": null,
      "grid_auto_flow": null,
      "grid_auto_rows": null,
      "grid_column": null,
      "grid_gap": null,
      "grid_row": null,
      "grid_template_areas": null,
      "grid_template_columns": null,
      "grid_template_rows": null,
      "height": null,
      "justify_content": null,
      "justify_items": null,
      "left": null,
      "margin": null,
      "max_height": null,
      "max_width": null,
      "min_height": null,
      "min_width": null,
      "object_fit": null,
      "object_position": null,
      "order": null,
      "overflow": null,
      "overflow_x": null,
      "overflow_y": null,
      "padding": null,
      "right": null,
      "top": null,
      "visibility": null,
      "width": null
     }
    },
    "fdda18894fea4cf5b72e4811976af498": {
     "model_module": "@jupyter-widgets/controls",
     "model_module_version": "1.5.0",
     "model_name": "FloatProgressModel",
     "state": {
      "_dom_classes": [],
      "_model_module": "@jupyter-widgets/controls",
      "_model_module_version": "1.5.0",
      "_model_name": "FloatProgressModel",
      "_view_count": null,
      "_view_module": "@jupyter-widgets/controls",
      "_view_module_version": "1.5.0",
      "_view_name": "ProgressView",
      "bar_style": "success",
      "description": "",
      "description_tooltip": null,
      "layout": "IPY_MODEL_071dcc73683b49a88c367cbd820bc975",
      "max": 466062,
      "min": 0,
      "orientation": "horizontal",
      "style": "IPY_MODEL_d457b0401dda457e92f931b8e2f7cea0",
      "value": 466062
     }
    },
    "ffc270e0876d419897091f1093a878a0": {
     "model_module": "@jupyter-widgets/controls",
     "model_module_version": "1.5.0",
     "model_name": "ProgressStyleModel",
     "state": {
      "_model_module": "@jupyter-widgets/controls",
      "_model_module_version": "1.5.0",
      "_model_name": "ProgressStyleModel",
      "_view_count": null,
      "_view_module": "@jupyter-widgets/base",
      "_view_module_version": "1.2.0",
      "_view_name": "StyleView",
      "bar_color": null,
      "description_width": ""
     }
    }
   }
  }
 },
 "nbformat": 4,
 "nbformat_minor": 0
}
